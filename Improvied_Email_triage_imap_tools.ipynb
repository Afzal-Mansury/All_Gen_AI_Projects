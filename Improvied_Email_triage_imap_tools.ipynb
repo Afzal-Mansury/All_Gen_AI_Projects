{
 "cells": [
  {
   "cell_type": "markdown",
   "metadata": {},
   "source": [
    "# Importing Libraries"
   ]
  },
  {
   "cell_type": "code",
   "execution_count": 427,
   "metadata": {},
   "outputs": [
    {
     "name": "stderr",
     "output_type": "stream",
     "text": [
      "[nltk_data] Downloading package stopwords to\n",
      "[nltk_data]     C:\\Users\\mansurya\\AppData\\Roaming\\nltk_data...\n",
      "[nltk_data]   Package stopwords is already up-to-date!\n"
     ]
    }
   ],
   "source": [
    "# Library for reading mail and writing to csv\n",
    "import unicodecsv as csv\n",
    "import email\n",
    "from bs4 import BeautifulSoup\n",
    "from imap_tools import MailBox, AND, A\n",
    "import re\n",
    "\n",
    "import os\n",
    "import numpy as np \n",
    "import pandas as pd \n",
    "import matplotlib.pyplot as plt \n",
    "import seaborn as sns\n",
    "from sklearn.pipeline import Pipeline\n",
    "\n",
    "\n",
    "# NLP LIBRARIES\n",
    "import nltk\n",
    "import string\n",
    "from nltk.corpus import stopwords\n",
    "from nltk.tokenize import sent_tokenize, word_tokenize\n",
    "from nltk.stem.porter import *\n",
    "from nltk.classify import NaiveBayesClassifier\n",
    "from wordcloud import WordCloud\n",
    "import scrubadub as sb\n",
    "#from nltk.stem.porter import PorterStemmer\n",
    "\n",
    "\n",
    "from sklearn.feature_extraction.text import CountVectorizer, TfidfVectorizer, TfidfTransformer\n",
    "from sklearn.linear_model import LogisticRegression\n",
    "from sklearn.model_selection import train_test_split\n",
    "from sklearn.metrics import f1_score, confusion_matrix, accuracy_score,classification_report\n",
    "from sklearn.svm import SVC\n",
    "from sklearn.naive_bayes import GaussianNB\n",
    "from nltk.stem import WordNetLemmatizer\n",
    "\n",
    "\n",
    "# downloading stopwords corpus\n",
    "nltk.download('stopwords')\n",
    "#nltk.download('wordnet')\n",
    "#stopwords = set(stopwords.words(\"english\"))\n",
    "\n",
    "# for showing all the plots inline\n",
    "%matplotlib inline\n",
    "\n",
    "#pip install xgboost\n",
    "#!pip install spacy"
   ]
  },
  {
   "cell_type": "markdown",
   "metadata": {},
   "source": [
    "# FOR AR Emails"
   ]
  },
  {
   "cell_type": "code",
   "execution_count": null,
   "metadata": {},
   "outputs": [],
   "source": [
    "# # Saving mail to inbox_AR for Action required mails\n",
    "# output_file = open(r'C:/Users/mansurya/Desktop/Email_triage/test/inbox_AR.csv','wb')\n",
    "# #C:/Users/mansurya/Desktop/Email_triage/EmailTriage/EmailTriage/Labelling/Web_Labelling/inbox.csv\n",
    "# output_writer = csv.writer(output_file, encoding='utf-8') #, encoding='latin2',utf-8,delimiter=';',"
   ]
  },
  {
   "cell_type": "code",
   "execution_count": null,
   "metadata": {},
   "outputs": [],
   "source": [
    "# # Folder names Emaila and Category\n",
    "# output_writer.writerow([\"email\",\"category\"])      "
   ]
  },
  {
   "cell_type": "code",
   "execution_count": null,
   "metadata": {
    "scrolled": true
   },
   "outputs": [],
   "source": [
    "# email_list_AR = []\n",
    " \n",
    "# # get list of email subjects from INBOX folder\n",
    "# mailbox = MailBox('outlook.office365.com')\n",
    "# mailbox.login('afzal.mansury@centelon.com\\payments@centelon.com', 'mpxbljwxbdzxbvzy', initial_folder='inbox/AR')  # or mailbox.folder.set instead 3d arg\n",
    "\n",
    "# for msg in mailbox.fetch(A(seen=True),mark_seen = False):\n",
    "#     soup = BeautifulSoup(msg.html, features=\"html.parser\")\n",
    "    \n",
    "#     # kill all script and style elements\n",
    "#     for script in soup([\"script\", \"style\"]):\n",
    "#         script.extract()    # rip it out\n",
    "#     elements = soup.find_all(\"div\", id=\"Signature\")\n",
    "#     #elements = soup.find_all(\"div\",\"Subject\")\n",
    "    \n",
    "#     for element in elements:\n",
    "#         element.decompose()\n",
    "#     text = soup.get_text()\n",
    "    \n",
    "#     # break into lines and remove leading and trailing space on each\n",
    "#     lines = (line.strip() for line in text.splitlines())\n",
    "#     # break multi-headlines into a line each\n",
    "#     chunks = (phrase.strip() for line in lines for phrase in line.split(\"  \"))\n",
    "#     # drop blank lines\n",
    "#     text = '\\n'.join(chunk for chunk in chunks if chunk)\n",
    "#     subjects = msg.subject\n",
    "#     print(subjects)\n",
    "    \n",
    "    \n",
    "#     match = re.search(r'((Re\\:\\sFW\\:)|(Re\\:)|(Fw\\:)|(FW\\:)|(Fwd\\:)|(RE\\:)|(RE\\:\\sFW\\:))', subjects)\n",
    "#     #print(\"------------\",text,\"-------------\")\n",
    "#     # If-statement after search() tests if it succeeded\n",
    "#     if match:\n",
    "#         print('found',match.group(0)) ## 'found word:cat'\n",
    "#     else:\n",
    "#         #print(text)\n",
    "#         text_full = []\n",
    "#         for text in text.splitlines():\n",
    "#             if not text.startswith((\"Subject:\",\"Cc:\",\"Sent:\",\"From:\",\"To:\")): #\"Subject:\",\n",
    "#                 text_full.append(text)\n",
    "                \n",
    "#         text = \" \".join(text_full)\n",
    "#         try:\n",
    "#             match = re.search(r'Thanks & Regards,|Regards,|Kind regards,|CONFIDENTIALITY:|With kind regards,|Kind regards|THANKING YOU ALL|Yours sincerely &  Regards|THANKING YOU ALL', text)\n",
    "#             result = text.index(match.group(0))\n",
    "#             text = text[:result]\n",
    "#             print(text[:result])\n",
    "#             email_list.append(text)\n",
    "#             output_writer.writerow([text,\"AR\"])\n",
    "#         except:\n",
    "#             print(text)\n",
    "#             email_list_AR.append(text)\n",
    "#             output_writer.writerow([text,\"AR\"])\n",
    "    \n",
    "#     print(\"*\"*40,\"End of mail body\",\"*\"*40)\n",
    "    \n",
    "            \n",
    "# output_file.close()\n",
    "# #Kind regards\n",
    "\n",
    "\n",
    "# #     match = re.search(r'Subject:\\s(RE\\:|Re\\:|FW\\:|Fw\\:|Re\\:\\sFW\\:)', text)\n",
    "# # r'Subject:\\s((Re\\:\\sFW\\:)|(Re\\:)|(FW\\:)|(Fw\\:)|(RE\\:))|Re\\:\\sFW\\:\n",
    "# # |Best regards,(.*?)|Best wishes,(.*?)|Fond regards,(.*?)|'\n",
    "# #                                         r'Kind regards(.*?)|Regards,(.*?)|Sincerely,(.*?)|Sincerely yours,(.*?)|'\n",
    "# #                                         r'Thank you,(.*?)|With appreciation,(.*?)|Yours sincerely,(.*?)"
   ]
  },
  {
   "cell_type": "markdown",
   "metadata": {},
   "source": [
    "# FOR NAR Emails"
   ]
  },
  {
   "cell_type": "code",
   "execution_count": null,
   "metadata": {},
   "outputs": [],
   "source": [
    "# output_file = open(r'C:/Users/mansurya/Desktop/Email_triage/test/inbox_NAR.csv','wb')\n",
    "# #C:/Users/mansurya/Desktop/Email_triage/EmailTriage/EmailTriage/Labelling/Web_Labelling/inbox.csv\n",
    "# output_writer = csv.writer(output_file, encoding='utf-8') #, encoding='latin2',utf-8,delimiter=';',"
   ]
  },
  {
   "cell_type": "code",
   "execution_count": null,
   "metadata": {},
   "outputs": [],
   "source": [
    "# output_writer.writerow([\"email\",\"category\"])      "
   ]
  },
  {
   "cell_type": "code",
   "execution_count": null,
   "metadata": {
    "scrolled": true
   },
   "outputs": [],
   "source": [
    "# email_list_NAR = []\n",
    " \n",
    "# # get list of email subjects from INBOX folder\n",
    "# mailbox = MailBox('outlook.office365.com')\n",
    "# mailbox.login('afzal.mansury@centelon.com\\payments@centelon.com', 'mpxbljwxbdzxbvzy', initial_folder='inbox/NAR')  # or mailbox.folder.set instead 3d arg\n",
    "\n",
    "# for msg in mailbox.fetch(A(seen=True),mark_seen = False):\n",
    "#     soup = BeautifulSoup(msg.html, features=\"html.parser\")\n",
    "    \n",
    "#     # kill all script and style elements\n",
    "#     for script in soup([\"script\", \"style\"]):\n",
    "#         script.extract()    # rip it out\n",
    "#     elements = soup.find_all(\"div\", id=\"Signature\")\n",
    "#     #elements = soup.find_all(\"div\",\"Subject\")\n",
    "    \n",
    "#     for element in elements:\n",
    "#         element.decompose()\n",
    "#     text = soup.get_text()\n",
    "    \n",
    "#     # break into lines and remove leading and trailing space on each\n",
    "#     lines = (line.strip() for line in text.splitlines())\n",
    "#     # break multi-headlines into a line each\n",
    "#     chunks = (phrase.strip() for line in lines for phrase in line.split(\"  \"))\n",
    "#     # drop blank lines\n",
    "#     text = '\\n'.join(chunk for chunk in chunks if chunk)\n",
    "#     subjects = msg.subject\n",
    "#     print(subjects)\n",
    "    \n",
    "    \n",
    "#     match = re.search(r'((Re\\:\\sFW\\:)|(Re\\:)|(Fw\\:)|(FW\\:)|(Fwd\\:)|(RE\\:)|(RE\\:\\sFW\\:))', subjects)\n",
    "#     #print(\"------------\",text,\"-------------\")\n",
    "#     # If-statement after search() tests if it succeeded\n",
    "#     if match:\n",
    "#         print('found',match.group(0)) ## 'found word:cat'\n",
    "#     else:\n",
    "#         #print(text)\n",
    "#         text_full = []\n",
    "#         for text in text.splitlines():\n",
    "#             if not text.startswith((\"Subject:\",\"Cc:\",\"Sent:\",\"From:\",\"To:\")): #\"Subject:\",\n",
    "#                 text_full.append(text)\n",
    "                \n",
    "#         text = \" \".join(text_full)\n",
    "#         try:\n",
    "#             match = re.search(r'Thanks & Regards,|Regards,|Kind regards,|CONFIDENTIALITY:|With kind regards,|Kind regards|THANKING YOU ALL|Yours sincerely &  Regards|THANKING YOU ALL', text)\n",
    "#             result = text.index(match.group(0))\n",
    "#             text = text[:result]\n",
    "#             print(text[:result])\n",
    "#             email_list.append(text)\n",
    "#             output_writer.writerow([text,\"NAR\"])\n",
    "#         except:\n",
    "#             print(text)\n",
    "#             email_list_NAR.append(text)\n",
    "#             output_writer.writerow([text,\"NAR\"])\n",
    "    \n",
    "#     print(\"*\"*40,\"End of mail body\",\"*\"*40)\n",
    "    \n",
    "            \n",
    "# output_file.close()\n",
    "# #Kind regards\n",
    "\n",
    "\n",
    "# #     match = re.search(r'Subject:\\s(RE\\:|Re\\:|FW\\:|Fw\\:|Re\\:\\sFW\\:)', text)\n",
    "# # r'Subject:\\s((Re\\:\\sFW\\:)|(Re\\:)|(FW\\:)|(Fw\\:)|(RE\\:))|Re\\:\\sFW\\:\n",
    "# # |Best regards,(.*?)|Best wishes,(.*?)|Fond regards,(.*?)|'\n",
    "# #                                         r'Kind regards(.*?)|Regards,(.*?)|Sincerely,(.*?)|Sincerely yours,(.*?)|'\n",
    "# #                                         r'Thank you,(.*?)|With appreciation,(.*?)|Yours sincerely,(.*?)"
   ]
  },
  {
   "cell_type": "code",
   "execution_count": null,
   "metadata": {
    "scrolled": true
   },
   "outputs": [],
   "source": [
    "print(email_list)"
   ]
  },
  {
   "cell_type": "code",
   "execution_count": null,
   "metadata": {},
   "outputs": [],
   "source": [
    "print(len(email_list_AR),len(email_list_NAR))"
   ]
  },
  {
   "cell_type": "markdown",
   "metadata": {},
   "source": [
    "# Readinng data and building model"
   ]
  },
  {
   "cell_type": "code",
   "execution_count": 360,
   "metadata": {},
   "outputs": [],
   "source": [
    "df_AR = pd.read_csv(r\"C:\\Users\\mansurya\\Desktop\\Email_triage\\test\\inbox_AR.csv\",encoding=\"utf-8\")"
   ]
  },
  {
   "cell_type": "code",
   "execution_count": 361,
   "metadata": {},
   "outputs": [
    {
     "data": {
      "text/html": [
       "<div>\n",
       "<style scoped>\n",
       "    .dataframe tbody tr th:only-of-type {\n",
       "        vertical-align: middle;\n",
       "    }\n",
       "\n",
       "    .dataframe tbody tr th {\n",
       "        vertical-align: top;\n",
       "    }\n",
       "\n",
       "    .dataframe thead th {\n",
       "        text-align: right;\n",
       "    }\n",
       "</style>\n",
       "<table border=\"1\" class=\"dataframe\">\n",
       "  <thead>\n",
       "    <tr style=\"text-align: right;\">\n",
       "      <th></th>\n",
       "      <th>email</th>\n",
       "      <th>category</th>\n",
       "    </tr>\n",
       "  </thead>\n",
       "  <tbody>\n",
       "    <tr>\n",
       "      <th>0</th>\n",
       "      <td>MYOB Centelon Pty Ltd View full invoice detail...</td>\n",
       "      <td>AR</td>\n",
       "    </tr>\n",
       "    <tr>\n",
       "      <th>1</th>\n",
       "      <td>Oracle Workflow Notification (FYI) From AGUSI,...</td>\n",
       "      <td>AR</td>\n",
       "    </tr>\n",
       "    <tr>\n",
       "      <th>2</th>\n",
       "      <td>MYOB Unpaid invoice summaries for July Hi Cent...</td>\n",
       "      <td>AR</td>\n",
       "    </tr>\n",
       "    <tr>\n",
       "      <th>3</th>\n",
       "      <td>MYOB Unpaid invoice summaries for July Hi Cent...</td>\n",
       "      <td>AR</td>\n",
       "    </tr>\n",
       "    <tr>\n",
       "      <th>4</th>\n",
       "      <td>Vodafone Hi AJIT STEPHEN, Your latest Vodafone...</td>\n",
       "      <td>AR</td>\n",
       "    </tr>\n",
       "  </tbody>\n",
       "</table>\n",
       "</div>"
      ],
      "text/plain": [
       "                                               email category\n",
       "0  MYOB Centelon Pty Ltd View full invoice detail...       AR\n",
       "1  Oracle Workflow Notification (FYI) From AGUSI,...       AR\n",
       "2  MYOB Unpaid invoice summaries for July Hi Cent...       AR\n",
       "3  MYOB Unpaid invoice summaries for July Hi Cent...       AR\n",
       "4  Vodafone Hi AJIT STEPHEN, Your latest Vodafone...       AR"
      ]
     },
     "execution_count": 361,
     "metadata": {},
     "output_type": "execute_result"
    }
   ],
   "source": [
    "df_AR.head()"
   ]
  },
  {
   "cell_type": "code",
   "execution_count": 362,
   "metadata": {},
   "outputs": [],
   "source": [
    "df_NAR = pd.read_csv(r\"C:\\Users\\mansurya\\Desktop\\Email_triage\\test\\inbox_NAR.csv\",encoding=\"utf-8\")"
   ]
  },
  {
   "cell_type": "code",
   "execution_count": 363,
   "metadata": {},
   "outputs": [
    {
     "data": {
      "text/html": [
       "<div>\n",
       "<style scoped>\n",
       "    .dataframe tbody tr th:only-of-type {\n",
       "        vertical-align: middle;\n",
       "    }\n",
       "\n",
       "    .dataframe tbody tr th {\n",
       "        vertical-align: top;\n",
       "    }\n",
       "\n",
       "    .dataframe thead th {\n",
       "        text-align: right;\n",
       "    }\n",
       "</style>\n",
       "<table border=\"1\" class=\"dataframe\">\n",
       "  <thead>\n",
       "    <tr style=\"text-align: right;\">\n",
       "      <th></th>\n",
       "      <th>email</th>\n",
       "      <th>category</th>\n",
       "    </tr>\n",
       "  </thead>\n",
       "  <tbody>\n",
       "    <tr>\n",
       "      <th>0</th>\n",
       "      <td>MYOB Unpaid invoice summaries for August Hi Ce...</td>\n",
       "      <td>NAR</td>\n",
       "    </tr>\n",
       "    <tr>\n",
       "      <th>1</th>\n",
       "      <td>MYOB Centelon Pty Ltd View full invoice detail...</td>\n",
       "      <td>NAR</td>\n",
       "    </tr>\n",
       "    <tr>\n",
       "      <th>2</th>\n",
       "      <td>MYOB Centelon Pty Ltd View full invoice detail...</td>\n",
       "      <td>NAR</td>\n",
       "    </tr>\n",
       "    <tr>\n",
       "      <th>3</th>\n",
       "      <td>MYOB Centelon Pty Ltd View full invoice detail...</td>\n",
       "      <td>NAR</td>\n",
       "    </tr>\n",
       "    <tr>\n",
       "      <th>4</th>\n",
       "      <td>MYOB Centelon Pty Ltd View full invoice detail...</td>\n",
       "      <td>NAR</td>\n",
       "    </tr>\n",
       "  </tbody>\n",
       "</table>\n",
       "</div>"
      ],
      "text/plain": [
       "                                               email category\n",
       "0  MYOB Unpaid invoice summaries for August Hi Ce...      NAR\n",
       "1  MYOB Centelon Pty Ltd View full invoice detail...      NAR\n",
       "2  MYOB Centelon Pty Ltd View full invoice detail...      NAR\n",
       "3  MYOB Centelon Pty Ltd View full invoice detail...      NAR\n",
       "4  MYOB Centelon Pty Ltd View full invoice detail...      NAR"
      ]
     },
     "execution_count": 363,
     "metadata": {},
     "output_type": "execute_result"
    }
   ],
   "source": [
    "df_NAR.head()"
   ]
  },
  {
   "cell_type": "markdown",
   "metadata": {},
   "source": [
    "# Mergeing both data frame and building final dataframe"
   ]
  },
  {
   "cell_type": "code",
   "execution_count": 364,
   "metadata": {},
   "outputs": [],
   "source": [
    "df_email = pd.concat([df_AR,df_NAR],axis=0)"
   ]
  },
  {
   "cell_type": "code",
   "execution_count": 365,
   "metadata": {},
   "outputs": [],
   "source": [
    "df_email = df_email.sample(frac=1).reset_index(drop=True)"
   ]
  },
  {
   "cell_type": "code",
   "execution_count": 366,
   "metadata": {},
   "outputs": [
    {
     "data": {
      "text/html": [
       "<div>\n",
       "<style scoped>\n",
       "    .dataframe tbody tr th:only-of-type {\n",
       "        vertical-align: middle;\n",
       "    }\n",
       "\n",
       "    .dataframe tbody tr th {\n",
       "        vertical-align: top;\n",
       "    }\n",
       "\n",
       "    .dataframe thead th {\n",
       "        text-align: right;\n",
       "    }\n",
       "</style>\n",
       "<table border=\"1\" class=\"dataframe\">\n",
       "  <thead>\n",
       "    <tr style=\"text-align: right;\">\n",
       "      <th></th>\n",
       "      <th>email</th>\n",
       "      <th>category</th>\n",
       "    </tr>\n",
       "  </thead>\n",
       "  <tbody>\n",
       "    <tr>\n",
       "      <th>0</th>\n",
       "      <td>Dear Nipun Ojha If you have any queries regard...</td>\n",
       "      <td>NAR</td>\n",
       "    </tr>\n",
       "    <tr>\n",
       "      <th>1</th>\n",
       "      <td>MYOB Centelon Pty Ltd View full invoice detail...</td>\n",
       "      <td>AR</td>\n",
       "    </tr>\n",
       "    <tr>\n",
       "      <th>2</th>\n",
       "      <td>Dear Srividya, Please find attached the invoic...</td>\n",
       "      <td>AR</td>\n",
       "    </tr>\n",
       "    <tr>\n",
       "      <th>3</th>\n",
       "      <td>Dear Customer, Thanks for using Tata Tele Busi...</td>\n",
       "      <td>AR</td>\n",
       "    </tr>\n",
       "    <tr>\n",
       "      <th>4</th>\n",
       "      <td>6.6.2020/ 86.....................................</td>\n",
       "      <td>AR</td>\n",
       "    </tr>\n",
       "    <tr>\n",
       "      <th>5</th>\n",
       "      <td>Dear Nipun Ojha If you have any queries regard...</td>\n",
       "      <td>NAR</td>\n",
       "    </tr>\n",
       "    <tr>\n",
       "      <th>6</th>\n",
       "      <td>Dear Sir/Madam, Please find attachment of invo...</td>\n",
       "      <td>AR</td>\n",
       "    </tr>\n",
       "    <tr>\n",
       "      <th>7</th>\n",
       "      <td>Dear Niranjan Varadarajan If you have any quer...</td>\n",
       "      <td>NAR</td>\n",
       "    </tr>\n",
       "    <tr>\n",
       "      <th>8</th>\n",
       "      <td>Uber for Business Your May Uber for Business s...</td>\n",
       "      <td>AR</td>\n",
       "    </tr>\n",
       "    <tr>\n",
       "      <th>9</th>\n",
       "      <td>MYOB Centelon Pty Ltd View full invoice detail...</td>\n",
       "      <td>NAR</td>\n",
       "    </tr>\n",
       "    <tr>\n",
       "      <th>10</th>\n",
       "      <td>Hi Please find attached invoice for consultanc...</td>\n",
       "      <td>AR</td>\n",
       "    </tr>\n",
       "    <tr>\n",
       "      <th>11</th>\n",
       "      <td>Email not looking beautiful? Click here. Hi Ni...</td>\n",
       "      <td>NAR</td>\n",
       "    </tr>\n",
       "    <tr>\n",
       "      <th>12</th>\n",
       "      <td>MYOB Centelon Pty Ltd View full invoice detail...</td>\n",
       "      <td>AR</td>\n",
       "    </tr>\n",
       "    <tr>\n",
       "      <th>13</th>\n",
       "      <td>Hi, PFA the invoice an timesheet for Ajit Step...</td>\n",
       "      <td>AR</td>\n",
       "    </tr>\n",
       "    <tr>\n",
       "      <th>14</th>\n",
       "      <td>Dear Niranjan Varadarajan If you have any quer...</td>\n",
       "      <td>NAR</td>\n",
       "    </tr>\n",
       "    <tr>\n",
       "      <th>15</th>\n",
       "      <td>Email Dear Centelon Solutions, Please find att...</td>\n",
       "      <td>AR</td>\n",
       "    </tr>\n",
       "    <tr>\n",
       "      <th>16</th>\n",
       "      <td>MYOB Centelon Pty Ltd View full invoice detail...</td>\n",
       "      <td>NAR</td>\n",
       "    </tr>\n",
       "    <tr>\n",
       "      <th>17</th>\n",
       "      <td>MYOB Centelon Pty Ltd View full invoice detail...</td>\n",
       "      <td>NAR</td>\n",
       "    </tr>\n",
       "    <tr>\n",
       "      <th>18</th>\n",
       "      <td>Dear Sir/Madam, Greetings from Legalogic!!! Wh...</td>\n",
       "      <td>AR</td>\n",
       "    </tr>\n",
       "    <tr>\n",
       "      <th>19</th>\n",
       "      <td>MYOB Centelon Solutions- Melbourne View full i...</td>\n",
       "      <td>NAR</td>\n",
       "    </tr>\n",
       "  </tbody>\n",
       "</table>\n",
       "</div>"
      ],
      "text/plain": [
       "                                                email category\n",
       "0   Dear Nipun Ojha If you have any queries regard...      NAR\n",
       "1   MYOB Centelon Pty Ltd View full invoice detail...       AR\n",
       "2   Dear Srividya, Please find attached the invoic...       AR\n",
       "3   Dear Customer, Thanks for using Tata Tele Busi...       AR\n",
       "4   6.6.2020/ 86.....................................       AR\n",
       "5   Dear Nipun Ojha If you have any queries regard...      NAR\n",
       "6   Dear Sir/Madam, Please find attachment of invo...       AR\n",
       "7   Dear Niranjan Varadarajan If you have any quer...      NAR\n",
       "8   Uber for Business Your May Uber for Business s...       AR\n",
       "9   MYOB Centelon Pty Ltd View full invoice detail...      NAR\n",
       "10  Hi Please find attached invoice for consultanc...       AR\n",
       "11  Email not looking beautiful? Click here. Hi Ni...      NAR\n",
       "12  MYOB Centelon Pty Ltd View full invoice detail...       AR\n",
       "13  Hi, PFA the invoice an timesheet for Ajit Step...       AR\n",
       "14  Dear Niranjan Varadarajan If you have any quer...      NAR\n",
       "15  Email Dear Centelon Solutions, Please find att...       AR\n",
       "16  MYOB Centelon Pty Ltd View full invoice detail...      NAR\n",
       "17  MYOB Centelon Pty Ltd View full invoice detail...      NAR\n",
       "18  Dear Sir/Madam, Greetings from Legalogic!!! Wh...       AR\n",
       "19  MYOB Centelon Solutions- Melbourne View full i...      NAR"
      ]
     },
     "execution_count": 366,
     "metadata": {},
     "output_type": "execute_result"
    }
   ],
   "source": [
    "df_email.head(20)"
   ]
  },
  {
   "cell_type": "code",
   "execution_count": 367,
   "metadata": {},
   "outputs": [
    {
     "data": {
      "text/html": [
       "<div>\n",
       "<style scoped>\n",
       "    .dataframe tbody tr th:only-of-type {\n",
       "        vertical-align: middle;\n",
       "    }\n",
       "\n",
       "    .dataframe tbody tr th {\n",
       "        vertical-align: top;\n",
       "    }\n",
       "\n",
       "    .dataframe thead th {\n",
       "        text-align: right;\n",
       "    }\n",
       "</style>\n",
       "<table border=\"1\" class=\"dataframe\">\n",
       "  <thead>\n",
       "    <tr style=\"text-align: right;\">\n",
       "      <th></th>\n",
       "      <th>email</th>\n",
       "      <th>category</th>\n",
       "    </tr>\n",
       "  </thead>\n",
       "  <tbody>\n",
       "    <tr>\n",
       "      <th>347</th>\n",
       "      <td>Email Dear Centelon Solutions, Please find att...</td>\n",
       "      <td>AR</td>\n",
       "    </tr>\n",
       "    <tr>\n",
       "      <th>348</th>\n",
       "      <td>MYOB Centelon Pty Ltd View full invoice detail...</td>\n",
       "      <td>NAR</td>\n",
       "    </tr>\n",
       "    <tr>\n",
       "      <th>349</th>\n",
       "      <td>MYOB Centelon Pty Ltd View full invoice detail...</td>\n",
       "      <td>NAR</td>\n",
       "    </tr>\n",
       "    <tr>\n",
       "      <th>350</th>\n",
       "      <td>Dear Sir/Madam We are pleased to share our inv...</td>\n",
       "      <td>AR</td>\n",
       "    </tr>\n",
       "    <tr>\n",
       "      <th>351</th>\n",
       "      <td>Vodafone Hi AJIT STEPHEN, Your latest Vodafone...</td>\n",
       "      <td>NAR</td>\n",
       "    </tr>\n",
       "    <tr>\n",
       "      <th>352</th>\n",
       "      <td>Equifax Invoice Dear CENTELON PTY LTD, Please ...</td>\n",
       "      <td>AR</td>\n",
       "    </tr>\n",
       "    <tr>\n",
       "      <th>353</th>\n",
       "      <td>MYOB Centelon Pty Ltd View full invoice detail...</td>\n",
       "      <td>AR</td>\n",
       "    </tr>\n",
       "    <tr>\n",
       "      <th>354</th>\n",
       "      <td>Dear Niranjan Varadarajan If you have any quer...</td>\n",
       "      <td>NAR</td>\n",
       "    </tr>\n",
       "    <tr>\n",
       "      <th>355</th>\n",
       "      <td>Dear Customer, We value your association with ...</td>\n",
       "      <td>AR</td>\n",
       "    </tr>\n",
       "    <tr>\n",
       "      <th>356</th>\n",
       "      <td>Dear Sir/Madam We have not received invoice da...</td>\n",
       "      <td>AR</td>\n",
       "    </tr>\n",
       "    <tr>\n",
       "      <th>357</th>\n",
       "      <td>MYOB Centelon Pty Ltd View full invoice detail...</td>\n",
       "      <td>AR</td>\n",
       "    </tr>\n",
       "    <tr>\n",
       "      <th>358</th>\n",
       "      <td>MYOB Centelon Pty Ltd View full invoice detail...</td>\n",
       "      <td>NAR</td>\n",
       "    </tr>\n",
       "    <tr>\n",
       "      <th>359</th>\n",
       "      <td>Vodafone Hi MANOJ MARATHE, Your latest Vodafon...</td>\n",
       "      <td>NAR</td>\n",
       "    </tr>\n",
       "    <tr>\n",
       "      <th>360</th>\n",
       "      <td>MYOB Centelon Pty Ltd View full invoice detail...</td>\n",
       "      <td>NAR</td>\n",
       "    </tr>\n",
       "    <tr>\n",
       "      <th>361</th>\n",
       "      <td>Dear Prabhash Please find the attached bill fo...</td>\n",
       "      <td>AR</td>\n",
       "    </tr>\n",
       "    <tr>\n",
       "      <th>362</th>\n",
       "      <td>Oracle Workflow Notification (FYI) From KISI, ...</td>\n",
       "      <td>AR</td>\n",
       "    </tr>\n",
       "    <tr>\n",
       "      <th>363</th>\n",
       "      <td>Hi Mathew, Please arrange the payment asap. Re...</td>\n",
       "      <td>AR</td>\n",
       "    </tr>\n",
       "    <tr>\n",
       "      <th>364</th>\n",
       "      <td>Dear Niranjan Varadarajan If you have any quer...</td>\n",
       "      <td>NAR</td>\n",
       "    </tr>\n",
       "    <tr>\n",
       "      <th>365</th>\n",
       "      <td>MYOB Centelon Pty Ltd View full invoice detail...</td>\n",
       "      <td>NAR</td>\n",
       "    </tr>\n",
       "    <tr>\n",
       "      <th>366</th>\n",
       "      <td>MYOB Centelon Pty Ltd View full invoice detail...</td>\n",
       "      <td>NAR</td>\n",
       "    </tr>\n",
       "  </tbody>\n",
       "</table>\n",
       "</div>"
      ],
      "text/plain": [
       "                                                 email category\n",
       "347  Email Dear Centelon Solutions, Please find att...       AR\n",
       "348  MYOB Centelon Pty Ltd View full invoice detail...      NAR\n",
       "349  MYOB Centelon Pty Ltd View full invoice detail...      NAR\n",
       "350  Dear Sir/Madam We are pleased to share our inv...       AR\n",
       "351  Vodafone Hi AJIT STEPHEN, Your latest Vodafone...      NAR\n",
       "352  Equifax Invoice Dear CENTELON PTY LTD, Please ...       AR\n",
       "353  MYOB Centelon Pty Ltd View full invoice detail...       AR\n",
       "354  Dear Niranjan Varadarajan If you have any quer...      NAR\n",
       "355  Dear Customer, We value your association with ...       AR\n",
       "356  Dear Sir/Madam We have not received invoice da...       AR\n",
       "357  MYOB Centelon Pty Ltd View full invoice detail...       AR\n",
       "358  MYOB Centelon Pty Ltd View full invoice detail...      NAR\n",
       "359  Vodafone Hi MANOJ MARATHE, Your latest Vodafon...      NAR\n",
       "360  MYOB Centelon Pty Ltd View full invoice detail...      NAR\n",
       "361  Dear Prabhash Please find the attached bill fo...       AR\n",
       "362  Oracle Workflow Notification (FYI) From KISI, ...       AR\n",
       "363  Hi Mathew, Please arrange the payment asap. Re...       AR\n",
       "364  Dear Niranjan Varadarajan If you have any quer...      NAR\n",
       "365  MYOB Centelon Pty Ltd View full invoice detail...      NAR\n",
       "366  MYOB Centelon Pty Ltd View full invoice detail...      NAR"
      ]
     },
     "execution_count": 367,
     "metadata": {},
     "output_type": "execute_result"
    }
   ],
   "source": [
    "df_email.tail(20)"
   ]
  },
  {
   "cell_type": "code",
   "execution_count": 368,
   "metadata": {},
   "outputs": [
    {
     "name": "stdout",
     "output_type": "stream",
     "text": [
      "\n",
      " df_AR_Shape (172, 2) \n",
      " df_NAR_Shape (195, 2) \n",
      " df_email (367, 2)\n"
     ]
    }
   ],
   "source": [
    "print(\"\\n\",\"df_AR_Shape\",df_AR.shape,\"\\n\",\"df_NAR_Shape\",df_NAR.shape,\"\\n\",\"df_email\",df_email.shape)"
   ]
  },
  {
   "cell_type": "code",
   "execution_count": 369,
   "metadata": {},
   "outputs": [
    {
     "data": {
      "text/plain": [
       "email       15\n",
       "category     0\n",
       "dtype: int64"
      ]
     },
     "execution_count": 369,
     "metadata": {},
     "output_type": "execute_result"
    }
   ],
   "source": [
    "df_email.isna().sum()"
   ]
  },
  {
   "cell_type": "code",
   "execution_count": 370,
   "metadata": {},
   "outputs": [],
   "source": [
    "df_email.dropna(inplace=True)"
   ]
  },
  {
   "cell_type": "code",
   "execution_count": 371,
   "metadata": {},
   "outputs": [
    {
     "data": {
      "text/plain": [
       "email       0\n",
       "category    0\n",
       "dtype: int64"
      ]
     },
     "execution_count": 371,
     "metadata": {},
     "output_type": "execute_result"
    }
   ],
   "source": [
    "df_email.isna().sum()"
   ]
  },
  {
   "cell_type": "code",
   "execution_count": 372,
   "metadata": {},
   "outputs": [
    {
     "data": {
      "text/plain": [
       "(352, 2)"
      ]
     },
     "execution_count": 372,
     "metadata": {},
     "output_type": "execute_result"
    }
   ],
   "source": [
    "df_email.shape"
   ]
  },
  {
   "cell_type": "code",
   "execution_count": 373,
   "metadata": {},
   "outputs": [],
   "source": [
    "bad_chars = ['\\n','\\t','\\r',';', ':', '!', \"*\",\"{{}}\",\"<>\",\"/\",\"//\",\"-.\",'-:',\".,\",\",.\",\"--\",\"#\",\">\",\"<\",\"&\",\"-\",\",\",\".\",\n",
    "             \"_\",\"@\",\"=\",\"^\",\"$\",\"!\",\"+\",\"?\"]"
   ]
  },
  {
   "cell_type": "markdown",
   "metadata": {},
   "source": [
    "# Cleaning Data"
   ]
  },
  {
   "cell_type": "code",
   "execution_count": 374,
   "metadata": {},
   "outputs": [],
   "source": [
    "def text_process(text):\n",
    "    '''\n",
    "    Make text lowercase, remove text in square brackets,remove links,remove special characters\n",
    "    and remove words containing numbers.\n",
    "    '''\n",
    "    text = text.lower()\n",
    "    text = sb.clean(text)\n",
    "    text = re.sub(r\"{{NAME}}\", \"\", text)\n",
    "    text = re.sub(r\"{{EMAIL}}\", \"\", text)\n",
    "    text = re.sub(r\"<mailto>\", \"\", text)\n",
    "    text = re.sub(r\"<{{URL}}>\", \"\", text)\n",
    "    text = re.sub(r\"{{URL+EMAIL}}\", \"\", text)\n",
    "    text = re.sub(r\"{{URLNAMENAME}}\", \"\", text)\n",
    "    text = re.sub(r\"<>\", \"\", text)\n",
    "    text = re.sub(r\"{{}}\", \"\", text)\n",
    "    text = re.sub('\\[.*?\\]', '', text)\n",
    "    text = re.sub(\"\\\\W\",\" \",text) # remove special chars\n",
    "    text = re.sub('https?://\\S+|www\\.\\S+', '', text)\n",
    "    text = re.sub('<.*?>+', '', text)\n",
    "    #text = re.sub('[%s]' % re.escape(string.punctuation), '', text)\n",
    "    #text = re.sub('\\n', '', text)\n",
    "    text = re.sub('\\w*\\d\\w*', '', text)\n",
    "    text = ''.join(k for k in text if not k in bad_chars)\n",
    "    text = [word for word in text.split() if word not in stopwords.words(\"english\")]\n",
    "    #text = [ps.stem(word) for word in text.split() if word not in stopwords.words(\"english\")]\n",
    "    #text = [word_lemmatizer.lemmatize(word) for word in text.split() if word not in stopwords.words(\"english\")]\n",
    "    text = \" \".join(text)\n",
    "\n",
    "    return text"
   ]
  },
  {
   "cell_type": "code",
   "execution_count": 375,
   "metadata": {},
   "outputs": [],
   "source": [
    "df_email[\"email\"] = df_email[\"email\"].apply(text_process)"
   ]
  },
  {
   "cell_type": "code",
   "execution_count": 376,
   "metadata": {},
   "outputs": [],
   "source": [
    "df_email.reset_index(inplace = True,drop = True)"
   ]
  },
  {
   "cell_type": "code",
   "execution_count": 377,
   "metadata": {},
   "outputs": [
    {
     "data": {
      "text/html": [
       "<div>\n",
       "<style scoped>\n",
       "    .dataframe tbody tr th:only-of-type {\n",
       "        vertical-align: middle;\n",
       "    }\n",
       "\n",
       "    .dataframe tbody tr th {\n",
       "        vertical-align: top;\n",
       "    }\n",
       "\n",
       "    .dataframe thead th {\n",
       "        text-align: right;\n",
       "    }\n",
       "</style>\n",
       "<table border=\"1\" class=\"dataframe\">\n",
       "  <thead>\n",
       "    <tr style=\"text-align: right;\">\n",
       "      <th></th>\n",
       "      <th>email</th>\n",
       "      <th>category</th>\n",
       "    </tr>\n",
       "  </thead>\n",
       "  <tbody>\n",
       "    <tr>\n",
       "      <th>342</th>\n",
       "      <td>myob centelon pty ltd view full invoice detail...</td>\n",
       "      <td>AR</td>\n",
       "    </tr>\n",
       "    <tr>\n",
       "      <th>343</th>\n",
       "      <td>myob centelon pty ltd view full invoice detail...</td>\n",
       "      <td>NAR</td>\n",
       "    </tr>\n",
       "    <tr>\n",
       "      <th>344</th>\n",
       "      <td>vodafone hi manoj marathe latest vodafone bill...</td>\n",
       "      <td>NAR</td>\n",
       "    </tr>\n",
       "    <tr>\n",
       "      <th>345</th>\n",
       "      <td>myob centelon pty ltd view full invoice detail...</td>\n",
       "      <td>NAR</td>\n",
       "    </tr>\n",
       "    <tr>\n",
       "      <th>346</th>\n",
       "      <td>dear prabhash please find attached bill servic...</td>\n",
       "      <td>AR</td>\n",
       "    </tr>\n",
       "    <tr>\n",
       "      <th>347</th>\n",
       "      <td>oracle workflow notification fyi kisi brodie s...</td>\n",
       "      <td>AR</td>\n",
       "    </tr>\n",
       "    <tr>\n",
       "      <th>348</th>\n",
       "      <td>hi mathew please arrange payment asap regards ...</td>\n",
       "      <td>AR</td>\n",
       "    </tr>\n",
       "    <tr>\n",
       "      <th>349</th>\n",
       "      <td>dear niranjan varadarajan queries regarding pa...</td>\n",
       "      <td>NAR</td>\n",
       "    </tr>\n",
       "    <tr>\n",
       "      <th>350</th>\n",
       "      <td>myob centelon pty ltd view full invoice detail...</td>\n",
       "      <td>NAR</td>\n",
       "    </tr>\n",
       "    <tr>\n",
       "      <th>351</th>\n",
       "      <td>myob centelon pty ltd view full invoice detail...</td>\n",
       "      <td>NAR</td>\n",
       "    </tr>\n",
       "  </tbody>\n",
       "</table>\n",
       "</div>"
      ],
      "text/plain": [
       "                                                 email category\n",
       "342  myob centelon pty ltd view full invoice detail...       AR\n",
       "343  myob centelon pty ltd view full invoice detail...      NAR\n",
       "344  vodafone hi manoj marathe latest vodafone bill...      NAR\n",
       "345  myob centelon pty ltd view full invoice detail...      NAR\n",
       "346  dear prabhash please find attached bill servic...       AR\n",
       "347  oracle workflow notification fyi kisi brodie s...       AR\n",
       "348  hi mathew please arrange payment asap regards ...       AR\n",
       "349  dear niranjan varadarajan queries regarding pa...      NAR\n",
       "350  myob centelon pty ltd view full invoice detail...      NAR\n",
       "351  myob centelon pty ltd view full invoice detail...      NAR"
      ]
     },
     "execution_count": 377,
     "metadata": {},
     "output_type": "execute_result"
    }
   ],
   "source": [
    "df_email.tail(10)"
   ]
  },
  {
   "cell_type": "code",
   "execution_count": 378,
   "metadata": {},
   "outputs": [
    {
     "data": {
      "text/plain": [
       "(352, 2)"
      ]
     },
     "execution_count": 378,
     "metadata": {},
     "output_type": "execute_result"
    }
   ],
   "source": [
    "df_email.shape"
   ]
  },
  {
   "cell_type": "code",
   "execution_count": 379,
   "metadata": {},
   "outputs": [
    {
     "data": {
      "text/plain": [
       "347    [oracle, workflow, notification, fyi, kisi, br...\n",
       "348    [hi, mathew, please, arrange, payment, asap, r...\n",
       "349    [dear, niranjan, varadarajan, queries, regardi...\n",
       "350    [myob, centelon, pty, ltd, view, full, invoice...\n",
       "351    [myob, centelon, pty, ltd, view, full, invoice...\n",
       "Name: email, dtype: object"
      ]
     },
     "execution_count": 379,
     "metadata": {},
     "output_type": "execute_result"
    }
   ],
   "source": [
    "tokenized_email = df_email['email'].apply(lambda x: x.split())\n",
    "tokenized_email.tail()"
   ]
  },
  {
   "cell_type": "code",
   "execution_count": 380,
   "metadata": {},
   "outputs": [
    {
     "data": {
      "text/plain": [
       "347    [oracle, workflow, notification, fyi, kisi, br...\n",
       "348    [hi, mathew, please, arrange, payment, asap, r...\n",
       "349    [dear, niranjan, varadarajan, query, regarding...\n",
       "350    [myob, centelon, pty, ltd, view, full, invoice...\n",
       "351    [myob, centelon, pty, ltd, view, full, invoice...\n",
       "Name: email, dtype: object"
      ]
     },
     "execution_count": 380,
     "metadata": {},
     "output_type": "execute_result"
    }
   ],
   "source": [
    "word_lemmatizer = WordNetLemmatizer()\n",
    "\n",
    "tokenized_email = tokenized_email.apply(lambda x: [word_lemmatizer.lemmatize(i) for i in x])\n",
    "tokenized_email.tail()"
   ]
  },
  {
   "cell_type": "code",
   "execution_count": 381,
   "metadata": {},
   "outputs": [
    {
     "data": {
      "text/plain": [
       "352"
      ]
     },
     "execution_count": 381,
     "metadata": {},
     "output_type": "execute_result"
    }
   ],
   "source": [
    "len(tokenized_email)"
   ]
  },
  {
   "cell_type": "code",
   "execution_count": 382,
   "metadata": {
    "scrolled": true
   },
   "outputs": [
    {
     "name": "stdout",
     "output_type": "stream",
     "text": [
      "0 dear nipun ojha query regarding payslip email u contact u regard chandler macleod payroll payroll customer support mulgrave vic chandlermacleodgroup com part rgf staffing acknowledge pay respect aboriginal torres strait islander people past present emerging whose land stand upon today chandler macleod group partner traditional custodian land unleash potential\n",
      "1 myob centelon pty ltd view full invoice detail view invoice dear stuart attached invoice revised po payment due please get touch got question\n",
      "2 dear srividya please find attached invoice month aug confirm would require hard copy yo sent across well name contact number mentioned envelope thanks\n",
      "3 dear customer thanks using tata tele business service sincerely value well appreciate patronage one esteemed customer pleased share invoice PHONE telecom service provided tata tele business service requested kindly go attached invoice process payment release payment due date tata tele service agent may get touch telephonic contact email due course requested share feedback billing collection process agent serve better order manage commercial transaction efficient seamless manner urge apply online mode issuing payment invoice mentioned link navigate make online payment online link URL order effect online payment applying rtgs neft route attached relevant information communication record necessary action manage service using self care portal imanage portal enables raise track service request view pay bill monitor live usage lot visit URL issuing payment tata teleservices requested share mentioned detail thru email mandatory notice account reference invoice number payment made tds amount kindly make note payment get accounted receipt information email hence please consider requirement imp mandatory regard customer service operation prime teleservices pvt ltd associate partner tata teleservices ltd\n",
      "4 tds basic total due kindly needful thanking sachin c mahadik karve road yashlaxmi niwas pune call PHONE mobile email firm yash laxmi computer system yash laxmi developer yash laxmi trader asian paint division raje mahadik son hostel niwas yashal son hostel niketan\n",
      "5 dear nipun ojha query regarding payslip email u contact u regard chandler macleod payroll payroll customer support mulgrave vic chandlermacleodgroup com part rgf staffing acknowledge pay respect aboriginal torres strait islander people past present emerging whose land stand upon today chandler macleod group partner traditional custodian land unleash potential\n",
      "6 dear sir madam please find attachment invoice copy reference please make payment soon possible note pls acknowledge return mail receipt bill thanks regard dinesh patil gnr solution pvt ltd h gera junction lulla nagar kondhwa road pune mo PHONE office email id website URL\n",
      "7 dear niranjan varadarajan query regarding payslip email u contact u regard chandler macleod payroll payroll customer support mulgrave vic chandlermacleodgroup com part rgf staffing acknowledge pay respect aboriginal torres strait islander people past present emerging whose land stand upon today chandler macleod group partner traditional custodian land unleash potential\n",
      "8 uber business may uber business statement ready may statement includes summary charge click link download statement link expire day statement always available via dashboard download statement monthly total scheduled payment tuesday june download summary pdf download transaction csv help uber pacific pty ltd unit connell street nsw sydney australia privacy term\n",
      "9 myob centelon pty ltd view full invoice detail view invoice dear annie attached invoice payment due please get touch got question\n",
      "10 hi please find attached invoice consultancy month july regard anand joshi\n",
      "11 email looking beautiful click hi niranjan chandler macleod partnered running warehouse australia provide staff fantastic opportunity nation wide read deal get chandler macleod employee worker save sitewide running warehouse australia simply enter code checkout receive order take advantage free day shipping order plus day love shoe return guarantee click link visit URL view extensive range claim discount today kind\n",
      "12 myob centelon pty ltd view full invoice detail view invoice dear john attached invoice payment due please get touch got question\n",
      "13 hi pfa invoice timesheet ajit stephen month aug request kindly review process payment\n",
      "14 dear niranjan varadarajan query regarding payslip email u contact u regard chandler macleod payroll payroll customer support mulgrave vic chandlermacleod com part rgf staffing acknowledge pay respect aboriginal torres strait islander people past present emerging whose land stand upon today chandler macleod group partner traditional custodian land unleash potential\n",
      "15 email dear centelon solution please find attached payment advice jun please review attached pdf detail payment\n",
      "16 myob centelon pty ltd view full invoice detail view invoice dear annie attached invoice payment due please get touch got question\n",
      "17 myob centelon pty ltd view full invoice detail view invoice dear annie attached invoice payment due please get touch got question\n",
      "18 dear sir madam greeting legalogic reconciliation noticed tds invoice llcrcm dated llcrcm dated reflecting requesting make correction tds return share u tds certificate please update u tds correction process done kind support highly appreciated\n",
      "19 myob centelon solution melbourne view full invoice detail view invoice dear gollogic pty ltd attached invoice payment due please get touch got question\n",
      "20 myob centelon pty ltd view full invoice detail view invoice dear ap team attached invoice payment due please get touch got question\n",
      "21 hi please proceed attached gnr invoice thank\n",
      "22 myob centelon pty ltd view full invoice detail view invoice dear annie attached invoice payment due please get touch got question\n",
      "23 document reject capgemini australia po box URL dear capgemini supplier within capgemini consider great importance pay invoice according agreed payment term ensured invoice complies purchasing requirement meet general term condition capgemini unfortunately invoice comply requirement reason return listed reason description purchase order billed additional information purchase order po fully billed fund available process invoice total amount invoiced exceeds total amount agreed upon purchase order po invoiced amount correct opinion please refer contact person good recipient within capgemini apply new po number addition would like ask kindly send u credit note returned invoice please informed invoice processed requested information provided u question comment regarding content letter ask kindly refer contact person good recipient within capgemini information regarding procedure sending reminder related communication please capgemini australia account payable team via capgemini com thank advance cooperation sincerely capgemini australia account payable team level grenfell street adelaide sa\n",
      "24 quickbooks invoice detail bizessence consultancy service pvt ltd dear centelon solution llp invoice appreciate prompt payment great day bizessence consultancy service pvt ltd due inr review pay powered quickbooks bill centelon solution llp floor ghule square bavdhan bk pune maharashtra india state code gstin ship centelon solution llp floor ghule square bavdhan bk pune maharashtra india state code term net inter company domestic inr x inr igst subtotal inr igst inr total inr tds amount inr balance due inr review pay bizessence consultancy service pvt ltd floor rajagiri business school near conference room kakkanad cochin kerala gstin receive email seems fraudulent please check business owner paying intuit inc right reserved privacy security term service\n",
      "25 oracle workflow notification fyi chochol anna sent oct id please review purchase order document attached message\n",
      "26 myob centelon pty ltd view full invoice detail view invoice dear annie attached invoice payment due please get touch got question\n",
      "27 myob centelon pty ltd view full invoice detail view invoice dear ap team attached invoice payment due please get touch got question\n",
      "28 myob centelon solution melbourne view full invoice detail view invoice dear ched service attached invoice payment due please get touch got question\n",
      "29 atlassian simplifying self managed offering upcoming change server data center product hello wanted let know important change making server data center offering sharpen focus cloud first company staying ahead latest regulatory security requirement enhancing cloud ecosystem introducing flexible plan continuously invested cloud product set organization long term success today majority already benefitting advantage cloud like streamlined administration instant scalability quicker time value come delivering world class cloud experience heard need u move faster go response simplifying self managed offering look like one expired server data center license want gain benefit support maintenance renew expired server license february pt interested restarting data center subscription time following change go effect february pt end new server license sale longer purchase request quote new server product update server data center price new price server data center go effect existing license subscription new pricing apply next renewal term february pt server support end support bug fix longer available server product read made announcement visit website additional detail change ready experience atlassian cloud move cloud get best atlassian platform grows integrates tool get smarter faster every day learn thank continued trust atlassian joining u journey future atlassian team learn read browser privacy policy contact u read blog join atlassian community copyright atlassian pty ltd right reserved located george street sydney nsw australia receiving email important message regarding account product using allowed unsubscribe type message\n",
      "30 myob centelon pty ltd view full invoice detail view invoice dear annie attached invoice payment due please get touch got question\n",
      "31 dear mathew please find attached invoice monthly service regard anand joshi\n",
      "32 dear nipun ojha query regarding payslip email u contact u regard chandler macleod payroll payroll customer support mulgrave vic chandlermacleod com part rgf staffing acknowledge pay respect aboriginal torres strait islander people past present emerging whose land stand upon today chandler macleod group partner traditional custodian land unleash potential\n",
      "33 myob centelon pty ltd view full invoice detail view invoice dear ap team attached invoice payment due please get touch got question\n",
      "34 oracle workflow notification fyi shield christopher sent jul id please review purchase order document attached message\n",
      "35 hi pfa invoice yashlaxmi computer system please revert case query thank\n",
      "36 dear nipun ojha query regarding payslip email u contact u regard chandler macleod payroll payroll customer support mulgrave vic chandlermacleodgroup com part rgf staffing acknowledge pay respect aboriginal torres strait islander people past present emerging whose land stand upon today chandler macleod group partner traditional custodian land unleash potential\n",
      "37 myob centelon pty ltd view full invoice detail view invoice dear john attached invoice payment due please get touch got question\n",
      "38 myob centelon pty ltd view full invoice detail view invoice dear annie attached invoice payment due please get touch got question\n",
      "39 vodafone detail next direct debt payment hi ajit quick head direct debit payment almost due process automatically nothing need detail payment detail payment due date account number current amount owing payment method direct debit bank account reference let know problem processing payment also manage account anytime vodafone vodafone app thanks vodafone team thing need know application feature subject change app free purchase however standard data charge apply download access external link via app used outside australia compatible handset required app subject network limitation information accessed using app may available time free error omission defect email sent vodafone notification address please reply email copyright vodafone pty limited abn\n",
      "40 myob centelon pty ltd view full invoice detail view invoice dear annie attached invoice payment due please get touch got question\n",
      "41 myob centelon pty ltd view full invoice detail view invoice dear annie attached invoice payment due please get touch got question\n",
      "42 myob centelon pty ltd view full invoice detail view invoice dear ben attached invoice payment due please get touch got question\n",
      "43 dear niranjan varadarajan query regarding payslip email u contact u regard chandler macleod payroll payroll customer support mulgrave vic chandlermacleodgroup com part rgf staffing acknowledge pay respect aboriginal torres strait islander people past present emerging whose land stand upon today chandler macleod group partner traditional custodian land unleash potential\n",
      "44 myob centelon solution melbourne view full invoice detail view invoice dear sachin attached invoice payment due please get touch got question\n",
      "45 myob centelon solution melbourne view full invoice detail view invoice dear ched service attached invoice payment due please get touch got question\n",
      "46 payment remittance advice payment remittance advice mar payee centelon pty ltd level city rd southbank vic australia payer origin energy service ltd gpo box adelaide sa telephone fax abn following payment remitted bank account please note fund may available next working business day payment reference number payment date mar payment currency aud payment amount bank account remitted remittance detail document reference number document date document amount document currency amount withheld discount taken amount paid jan aud SSN jan aud SSN jan aud total warning email attachment may private confidential received error please delete inform u calling account payable reply via e mail direct email attachment may interfered may contain computer virus defect may successfully replicated system must cautious cannot guarantee receive sent doubt authenticity email please contact u immediately also important check virus defect opening using attachment liability limited resupplying affected attachment\n",
      "47 please find following attachment accounting voucher pdf created using tally erp\n",
      "48 myob centelon pty ltd view full invoice detail view invoice dear john attached invoice payment due please get touch got question\n",
      "49 vodafone hi ajit stephen latest vodafone bill account available view bill change detail track usage head vodafone today thanks vodafone team account number invoice number total balance due direct debit apr download bill pay privacy policy pay bill important info pdf bill actual invoice showing bill amount due date payment view clicking download bill button protect personal information vodafone recommends clear internet browser history bill fully downloaded bill contains minimum monthly charge advance may show extra charge exceed plan allowance use service included plan within previous billing period changed plan upgraded bill pretty straightforward see charge new plan moved month ahead well first instalment got new device monthly payment plan chosen receive bill email change login vodafone view bill best download latest version adobe reader email sent vodafone address cannot replied vodafone hutchison australia pty limited abn\n",
      "50 myob centelon pty ltd view full invoice detail view invoice dear andrew attached invoice completion staging environment build change request payment due please get touch got question\n",
      "51 myob centelon pty ltd view full invoice detail view invoice dear angela attached invoice payment due please get touch got question\n",
      "52 myob centelon pty ltd view full invoice detail view invoice dear annie attached invoice payment due please get touch got question\n",
      "53 myob centelon solution melbourne view full invoice detail view invoice dear gollogic pty ltd attached invoice payment due please get touch got question\n",
      "54 dear nipun ojha query regarding payslip email u contact u regard chandler macleod payroll payroll customer support mulgrave vic chandlermacleodgroup com part rgf staffing acknowledge pay respect aboriginal torres strait islander people past present emerging whose land stand upon today chandler macleod group partner traditional custodian land unleash potential\n",
      "55 oracle workflow notification fyi procurement buyer sent jun id please review purchase order document attached message\n",
      "56 someone special joining u open see surprise hi ann excited welcome one broadway biggest star forward virtual stage leslie odom jr september leslie take journey word music failing unlock true potential sign award winning performer hamilton best selling author failing take risk aim higher never stop learning leslie share accomplished goal failure perseverance consistent learning leslie story give courage confidence lead resilience move organisation forward want miss\n",
      "57 myob centelon pty ltd view full invoice detail view invoice dear angela attached invoice payment due please get touch got question\n",
      "58 dear sir madam pleased share invoice work done advance fee filing trademark applicationbizessence acceloraustralia please note payment made credit legalogic consulting llp per detail mentioned attached invoice attention requested following contact email case query phone case query PHONE request process said invoice earliest prompt attention highly appreciated thank business pleasure working team stay safe regard poonam ar team legalogic consulting URL cell PHONE unit level pv house damle road lane adjacent indsearch law college road pune maharashtra direction\n",
      "59 dear customer greeting tata tele business service received following credit ttl account accordingly request confirmation payment detail table u enable credit account respective invoice paid utr company name neft amount account posting amount invoice number tds value centelon solution llp required required request regularize provision book sharing original tds certificate immediately also going forward may share detail along payment faster correct credit account alternately directly pay credit invoice using self care portal imanage also view pay multiple bill raise track service request complaint monitor usage lot convenience click URL\n",
      "60 hi ann pfa biz invoice aug thanks\n",
      "61 hello centelon account invoice ongoing assessment project attached total amount payable advance please process payment asap regard prashant dobriyal vice president corporate training wordsmaya phone PHONE e mail social linkedin\n",
      "62 dear nipun ojha query regarding payslip email u contact u regard chandler macleod payroll payroll customer support mulgrave vic chandlermacleodgroup com part rgf staffing acknowledge pay respect aboriginal torres strait islander people past present emerging whose land stand upon today chandler macleod group partner traditional custodian land unleash potential\n",
      "63 myob centelon pty ltd view full invoice detail view invoice dear gunjan brendan attached invoice payment due please get touch got question\n",
      "64 myob centelon pty ltd view full invoice detail view invoice dear annie attached invoice payment due please get touch got question\n",
      "65 dear niranjan varadarajan query regarding payslip email u contact u regard chandler macleod payroll payroll customer support mulgrave vic chandlermacleodgroup com part rgf staffing acknowledge pay respect aboriginal torres strait islander people past present emerging whose land stand upon today chandler macleod group partner traditional custodian land unleash potential\n",
      "66 myob centelon pty ltd view full invoice detail view invoice dear john attached invoice payment due please get touch got question\n",
      "67 dear niranjan varadarajan query regarding payslip email u contact u regard chandler macleod payroll payroll customer support mulgrave vic chandlermacleodgroup com part rgf staffing acknowledge pay respect aboriginal torres strait islander people past present emerging whose land stand upon today chandler macleod group partner traditional custodian land unleash potential\n",
      "68 myob centelon pty ltd view full invoice detail view invoice dear ap team attached invoice payment due please get touch got question\n",
      "69 dear niranjan varadarajan query regarding payslip email u contact u regard chandler macleod payroll payroll customer support mulgrave vic chandlermacleodgroup com part rgf staffing acknowledge pay respect aboriginal torres strait islander people past present emerging whose land stand upon today chandler macleod group partner traditional custodian land unleash potential\n",
      "70 vodafone hi ajit stephen latest vodafone bill account available view bill change detail track usage head vodafone today thanks vodafone team account number invoice number total balance due direct debit jul download bill pay privacy policy pay bill important info pdf bill actual invoice showing bill amount due date payment view clicking download bill button protect personal information vodafone recommends clear internet browser history bill fully downloaded bill contains minimum monthly charge advance may show extra charge exceed plan allowance use service included plan within previous billing period changed plan upgraded bill pretty straightforward see charge new plan moved month ahead well first instalment got new device monthly payment plan chosen receive bill email change login vodafone view bill best download latest version adobe reader email sent vodafone address cannot replied vodafone hutchison australia pty limited abn\n",
      "71 myob centelon solution melbourne view full invoice detail view invoice dear sachin attached invoice payment due please get touch got question\n",
      "72 myob centelon pty ltd view full invoice detail view invoice dear chau ricky attached amey invoice payment due please get touch got question\n",
      "73 myob centelon pty ltd view full invoice detail view invoice dear ap team attached invoice payment due please get touch got question\n",
      "74 myob centelon pty ltd view full invoice detail view invoice dear annie attached invoice payment due please get touch got question\n",
      "75 dear sir madam please find attached invoice service rendered ernst young query attached please contact ernst young representative ernst young committed reducing volume distribution printed material generated business sending invoice via email kindly regard tt invoicing australia finance account receivable direct hour support monday friday aest also contacted website URL thank considering environmental impact printing email click raise complaint quality service information contained communication intended solely use individual entity addressed others authorized receive may contain confidential legally privileged information intended recipient hereby notified disclosure copying distribution taking action reliance content information strictly prohibited may unlawful received communication error please notify u immediately responding email delete system ey neither liable proper complete transmission information contained communication delay receipt\n",
      "76 myob centelon pty ltd view full invoice detail view invoice dear gunjan brendan attached invoice payment due please get touch got question\n",
      "77 myob centelon solution melbourne view full invoice detail view invoice dear sachin attached invoice payment due please get touch got question\n",
      "78 hi ann please consider invoice list invoice replacement invoice\n",
      "79 myob centelon pty ltd view full invoice detail view invoice dear david attached invoice payment due please get touch got question\n",
      "80 sir please inform detail payment agst bill dated amounted\n",
      "81 uber business august uber business statement ready august statement includes summary charge click link download statement link expire day statement always available via dashboard download statement monthly total scheduled payment wednesday september download summary pdf download transaction csv help uber pacific pty ltd unit connell street nsw sydney australia privacy term\n",
      "82 email dear centelon solution please find attached payment advice sep please review attached pdf detail payment\n",
      "83 dear niranjan varadarajan query regarding payslip email u contact u regard chandler macleod payroll payroll customer support mulgrave vic chandlermacleod com part rgf staffing acknowledge pay respect aboriginal torres strait islander people past present emerging whose land stand upon today chandler macleod group partner traditional custodian land unleash potential\n",
      "84 respected sir madam sub implementing digital signature document mainly billing invoice client aware due transformation current manual system digital world also planning put one step forward introducing digital signature invoice case also contribute saving multiple area natural resource concern paper stationary b cost saving concern courier charge transportation cost deliver invoice client c time saving immediate delivery document client preparation requested revert back u within one week case difficulty end accept procedure otherwise treat procedure acceptable continue procedure immediate effect billing\n",
      "85 dear nipun ojha query regarding payslip email u contact u regard chandler macleod payroll payroll customer support mulgrave vic chandlermacleod com part rgf staffing acknowledge pay respect aboriginal torres strait islander people past present emerging whose land stand upon today chandler macleod group partner traditional custodian land unleash potential\n",
      "86 please see attached copy invoice number sign ajit stephen payment successfully processed applied account find detail transaction zoom account number payment method credit card payment date amount u dollar need review update billing information subscription please log thank business team zoom daily live demo drop brief overview zoom suite live q advanced user training join u daily deep dive zoom meeting feature contact support email u anytime happy help PHONE zoom right reserved visit zoom u almaden blvd san jose ca\n",
      "87 dear sir madam pleased share invoice work done balance fee filing trademark applicationfinnate metizuk please note payment made credit legalogic consulting llp per detail mentioned attached invoice attention requested following contact email case query phone case query PHONE request process said invoice earliest prompt attention highly appreciated thank business pleasure working team stay safe regard poonam ar team legalogic consulting URL cell PHONE unit level pv house damle road lane adjacent indsearch law college road pune maharashtra direction\n",
      "88 quickbooks invoice cisl centelon solution llp dear centelon pty ltd invoice appreciate prompt payment thanks business centelon solution llp due review pay powered quickbooks centelon solution llp maharashtra cin aam receive email seems fraudulent please check business owner paying intuit inc right reserved privacy security term service\n",
      "89 oracle workflow notification fyi agusi aisha sent jul id please review purchase order document attached message\n",
      "90 myob centelon pty ltd view full invoice detail view invoice dear angela attached invoice payment due please get touch got question\n",
      "91 uber business october uber business statement ready october statement includes summary charge click link download statement link expire day statement always available via dashboard download statement monthly total scheduled payment monday november download summary pdf download transaction csv help uber pacific pty ltd unit connell street nsw sydney australia privacy term\n",
      "92 myob centelon pty ltd view full invoice detail view invoice dear annie attached invoice payment due please get touch got question\n",
      "93 document reject capgemini australia po box URL dear capgemini supplier within capgemini consider great importance pay invoice according agreed payment term ensured invoice complies purchasing requirement meet general term condition capgemini unfortunately invoice comply requirement reason return listed reason description purchase order billed additional information purchase order po fully billed fund available process invoice total amount invoiced exceeds total amount agreed upon purchase order po invoiced amount correct opinion please refer contact person good recipient within capgemini apply new po number addition would like ask kindly send u credit note returned invoice please informed invoice processed requested information provided u question comment regarding content letter ask kindly refer contact person good recipient within capgemini information regarding procedure sending reminder related communication please capgemini australia account payable team via capgemini com thank advance cooperation sincerely capgemini australia account payable team level grenfell street adelaide sa\n",
      "94 hi mathew please find attached invoice month june july\n",
      "95 myob centelon pty ltd view full invoice detail view invoice dear ap team attached invoice payment due please get touch got question\n",
      "96 dear nipun ojha query regarding payslip email u contact u regard chandler macleod payroll payroll customer support mulgrave vic chandlermacleodgroup com part rgf staffing acknowledge pay respect aboriginal torres strait islander people past present emerging whose land stand upon today chandler macleod group partner traditional custodian land unleash potential\n",
      "97 new doc oct pm page pdf\n",
      "98 dear sir pfa accordingly arrange rtgs iso certification office bungalow near pcmc school damodar mali marg vikas nagar dehu road pune maharashtra india PHONE e mail search excellence\n",
      "99 hi ann pfa invoice raised pte india aug thanks\n",
      "100 myob centelon pty ltd view full invoice detail view invoice dear annie attached invoice payment due please get touch got question\n",
      "101 dear sir please find scan copy invocie gst\n",
      "102 oracle workflow notification fyi procurement buyer sent jun id please review purchase order document attached message\n",
      "103 myob centelon pty ltd view full invoice detail view invoice dear ap team attached invoice payment due please get touch got question\n",
      "104 myob centelon solution melbourne view full invoice detail view invoice dear gollogic pty ltd attached invoice payment due please get touch got question\n",
      "105 pfa bill august processing\n",
      "106 hi pfa invoice firewall device thank\n",
      "107 vodafone processing direct debit soon hi manoj letting know direct debit almost due payment detail payment due date account number current amount owing payment method direct debit mastercard reference let know problem processing payment also manage account anytime vodafone vodafone app thanks vodafone team thing need know application feature subject change app free purchase however standard data charge apply download access external link via app used outside australia compatible handset required app subject network limitation information accessed using app may available time free error omission defect email sent vodafone notification address please reply email copyright vodafone pty limited abn\n",
      "108 dear sir madam please find attached herewith invoice pf compliance oct paid nov request please process\n",
      "109 dear srividya please find attached invoice month aug confirm would require hard copy yo sent across well name contact number mentioned envelope thanks\n",
      "110 udemy recent time pushed people leader dramatically accelerate change pivot toward new initiative enable employee success remote working world hi ann excited share leader guide navigating change remote workplace full tip lesson learned business people leader like navigate time unpredictable change get copy guide learn today leader enable remote work throughout employee lifecycle ensure human first approach provide support resource employee provide training resource equip employee work remote effectively get copy best beverly beverly chang integrated marketing udemy business strategic learning partner help move skill forward harrison street floor san francisco ca unsubscribe\n",
      "111 myob centelon pty ltd view full invoice detail view invoice dear john attached invoice payment due please get touch got question\n",
      "112 myob centelon pty ltd view full invoice detail view invoice dear resending amey jan based confirmation provided ricky payment due please get touch got question\n",
      "113 email dear centelon solution please find attached payment advice nov please review attached pdf detail payment\n",
      "114 myob centelon pty ltd view full invoice detail view invoice dear annie attached invoice payment due please get touch got question\n",
      "115 hi niranjan hope well received confirmation agl extend contract per attached condition assignment please sign return condition assignment confirm acceptance feel free contact question\n",
      "116 dear niranjan varadarajan query regarding payslip email u contact u regard chandler macleod payroll payroll customer support mulgrave vic chandlermacleodgroup com part rgf staffing acknowledge pay respect aboriginal torres strait islander people past present emerging whose land stand upon today chandler macleod group partner traditional custodian land unleash potential\n",
      "117 dear nipun ojha query regarding payslip email u contact u regard chandler macleod payroll payroll customer support mulgrave vic chandlermacleod com part rgf staffing acknowledge pay respect aboriginal torres strait islander people past present emerging whose land stand upon today chandler macleod group partner traditional custodian land unleash potential\n",
      "118 myob centelon pty ltd view full invoice detail view invoice dear annie attached invoice payment due please get touch got question\n",
      "119 myob centelon pty ltd view full invoice detail view invoice dear ap team gentle reminder attached invoice payment due please get touch got question\n",
      "120 myob centelon pty ltd view full invoice detail view invoice dear brendan gunjan attached ajay invoice payment due please get touch got question\n",
      "121 myob centelon pty ltd view full invoice detail view invoice dear annie attached invoice payment due please get touch got question\n",
      "122 dear niranjan varadarajan query regarding payslip email u contact u regard chandler macleod payroll payroll customer support mulgrave vic chandlermacleodgroup com part rgf staffing acknowledge pay respect aboriginal torres strait islander people past present emerging whose land stand upon today chandler macleod group partner traditional custodian land unleash potential\n",
      "123 hi ann please find attached letter appointment accepted issac george per document pay director fee sitting fee total first two quarter plus sitting fee work r lakh account detail attached cheque please prepare payment sheet bus guess need send mail also\n",
      "124 dear nipun ojha query regarding payslip email u contact u regard chandler macleod payroll payroll customer support mulgrave vic chandlermacleodgroup com part rgf staffing acknowledge pay respect aboriginal torres strait islander people past present emerging whose land stand upon today chandler macleod group partner traditional custodian land unleash potential\n",
      "125 dear pfa accordingly arrange rtgs safe good evening regard iso certification office bungalow near pcmc school damodar mali marg vikas nagar dehu road pune maharashtra india PHONE e mail search excellence\n",
      "126 myob centelon pty ltd view full invoice detail view invoice dear ap team attached invoice payment due please get touch got question\n",
      "127 myob centelon pty ltd view full invoice detail view invoice dear annie attached invoice payment due please get touch got question\n",
      "128 vodafone hi manoj marathe latest vodafone bill account available view bill change detail track usage head vodafone today thanks vodafone team account number invoice number total balance due direct debit jul download bill pay privacy policy pay bill important info pdf bill actual invoice showing bill amount due date payment view clicking download bill button protect personal information vodafone recommends clear internet browser history bill fully downloaded bill contains minimum monthly charge advance may show extra charge exceed plan allowance use service included plan within previous billing period changed plan upgraded bill pretty straightforward see charge new plan moved month ahead well first instalment got new device monthly payment plan chosen receive bill email change login vodafone view bill best download latest version adobe reader email sent vodafone address cannot replied vodafone hutchison australia pty limited abn\n",
      "129 dear sir madam pleased share invoice work done drafting reply objectionmetizaustralia please note payment made credit legalogic consulting per detail mentioned attached invoice attention requested following contact email case query phone case query PHONE request process said invoice earliest prompt attention highly appreciated regard poonam ar team legalogic consulting URL cell PHONE unit level pv house damle road lane adjacent indsearch law college road pune maharashtra direction\n",
      "130 myob centelon pty ltd view full invoice detail view invoice dear arun attached invoice payment due please get touch got question\n",
      "131 dear niranjan varadarajan query regarding payslip email u contact u regard chandler macleod payroll payroll customer support mulgrave vic chandlermacleodgroup com part rgf staffing acknowledge pay respect aboriginal torres strait islander people past present emerging whose land stand upon today chandler macleod group partner traditional custodian land unleash potential\n",
      "132 please find following attachment accounting voucher pdf created using tally erp\n",
      "133 dear nipun ojha query regarding payslip email u contact u regard chandler macleod payroll payroll customer support mulgrave vic chandlermacleodgroup com part rgf staffing acknowledge pay respect aboriginal torres strait islander people past present emerging whose land stand upon today chandler macleod group partner traditional custodian land unleash potential\n",
      "134 hi pfa gnr invoice november december\n",
      "135 myob centelon pty ltd view full invoice detail view invoice dear gary attached invoice payment due please get touch got question\n",
      "136 myob centelon pty ltd view full invoice detail view invoice dear ap team attached invoice payment due please get touch got question\n",
      "137 dear nipun ojha query regarding payslip email u contact u regard chandler macleod payroll payroll customer support mulgrave vic chandlermacleodgroup com part rgf staffing acknowledge pay respect aboriginal torres strait islander people past present emerging whose land stand upon today chandler macleod group partner traditional custodian land unleash potential\n",
      "138 dear niranjan varadarajan query regarding payslip email u contact u regard chandler macleod payroll payroll customer support mulgrave vic chandlermacleodgroup com part rgf staffing acknowledge pay respect aboriginal torres strait islander people past present emerging whose land stand upon today chandler macleod group partner traditional custodian land unleash potential\n",
      "139 myob centelon pty ltd view full invoice detail view invoice dear annie attached invoice payment due please get touch got question\n",
      "140 myob centelon pty ltd view full invoice detail view invoice dear ap team attached invoice payment due please get touch got question\n",
      "141 email dear centelon solution please find attached payment advice sep please review attached pdf detail payment\n",
      "142 myob centelon pty ltd view full invoice detail view invoice dear john attached invoice payment due please get touch got question\n",
      "143 dear nipun ojha query regarding payslip email u contact u regard chandler macleod payroll payroll customer support mulgrave vic chandlermacleodgroup com part rgf staffing acknowledge pay respect aboriginal torres strait islander people past present emerging whose land stand upon today chandler macleod group partner traditional custodian land unleash potential\n",
      "144 myob centelon pty ltd view full invoice detail view invoice dear aggie attached invoice payment due please get touch got question\n",
      "145 please find attached consultancy invoice month november thanks regard cgas team\n",
      "146 please find following attachment accounting voucher pdf created using tally erp\n",
      "147 please find following attachment accounting voucher pdf created using tally erp\n",
      "148 dear pfa accordingly arrange rtgs safe good evening regard iso certification office bungalow near pcmc school damodar mali marg vikas nagar dehu road pune maharashtra india PHONE e mail search excellence\n",
      "149 hello renuka please send invoice request payment centelon payment bizessence payment case may\n",
      "150 hi pfa gnr invoice august\n",
      "151 myob centelon pty ltd view full invoice detail view invoice dear annie attached invoice payment due please get touch got question\n",
      "152 myob centelon pty ltd view full invoice detail view invoice dear ap team attached invoice payment due please get touch got question\n",
      "153 myob unpaid invoice summary july hi centelon pty ltd customer receive statement unpaid invoice july invoice unpaid status myob account appear summary go ahead make sure recorded payment right invoice send invoice paid invoice created myob use invoice saved myob software invoice date correct detail especially issue date unpaid invoice going month must dated july ready yet want send statement month head setting turn summary individual customer learn powered\n",
      "154 hello srividya please find attached herewith pf paid challans centelon bizesssence also attached invoice company month request kindly process\n",
      "155 dear sir madam pleased share invoice work done advance fee filing trademark applicationbizessence accelormadrid route please note payment made credit legalogic consulting llp per detail mentioned attached invoice attention requested following contact email case query phone case query PHONE request process said invoice earliest prompt attention highly appreciated thank business pleasure working team stay safe regard poonam ar team legalogic consulting URL cell PHONE unit level pv house damle road lane adjacent indsearch law college road pune maharashtra direction\n",
      "156 hello srividya please find attached herewith invoice pf compliance month june paid july centelon llp bizessence consultancy request release payment\n",
      "157 payment remittance advice payment remittance advice sep payee centelon pty ltd level city rd southbank vic australia payer origin energy service ltd gpo box adelaide sa telephone fax abn following payment remitted bank account please note fund may available next working business day payment reference number payment date sep payment currency aud payment amount bank account remitted remittance detail document reference number document date document amount document currency amount withheld discount taken amount paid jul aud SSN jul aud SSN jul aud SSN jul aud SSN jul aud SSN jul aud SSN jul aud total warning email attachment may private confidential received error please delete inform u calling account payable reply via e mail direct email attachment may interfered may contain computer virus defect may successfully replicated system must cautious cannot guarantee receive sent doubt authenticity email please contact u immediately also important check virus defect opening using attachment liability limited resupplying affected attachment\n",
      "158 myob centelon pty ltd view full invoice detail view invoice dear stuart attached invoice payment due please get touch got question\n",
      "159 myob centelon pty ltd view full invoice detail view invoice dear annie attached invoice payment due please get touch got question\n",
      "160 myob unpaid invoice summary july hi centelon pty ltd customer receive statement unpaid invoice july invoice unpaid status myob account appear summary go ahead make sure recorded payment right invoice send invoice paid invoice created myob use invoice saved myob software invoice date correct detail especially issue date unpaid invoice going month must dated july ready yet want send statement month head setting turn summary individual customer learn powered\n",
      "161 dear niranjan varadarajan query regarding payslip email u contact u regard chandler macleod payroll payroll customer support mulgrave vic chandlermacleodgroup com part rgf staffing acknowledge pay respect aboriginal torres strait islander people past present emerging whose land stand upon today chandler macleod group partner traditional custodian land unleash potential\n",
      "162 dear sir please see attachment invocie\n",
      "163 dear sir madam due covid scenario unable prepare invoice month march case difficulty related date invoice sending present requested revert back within day going submit gst data payment govt authority hence case correction date invoice possible\n",
      "164 hi reference amit visapurkar invoice salesforce please use po raising invoice thanks rahul suma may need request urgency recruiter salesforce role get profile tomorrow hi rahul quick note two topic received quite number cv ndia role one coming thats great start interviewing next day two po amit submitting invoice account dept need provide invoice po number po amit po thanks drew drew grieve resource management apac salesforce com email mobile PHONE important role cover lot different timezones whilst suit email expect response action outside working hour\n",
      "165 dear niranjan varadarajan query regarding payslip email u contact u regard chandler macleod payroll payroll customer support mulgrave vic chandlermacleodgroup com part rgf staffing acknowledge pay respect aboriginal torres strait islander people past present emerging whose land stand upon today chandler macleod group partner traditional custodian land unleash potential\n",
      "166 myob centelon pty ltd view full invoice detail view invoice dear annie attached invoice payment due please get touch got question\n",
      "167 payment remittance advice payment remittance advice jun payee centelon pty ltd level city rd southbank vic australia payer origin energy service ltd gpo box adelaide sa telephone fax abn following payment remitted bank account please note fund may available next working business day payment reference number payment date jun payment currency aud payment amount bank account remitted remittance detail document reference number document date document amount document currency amount withheld discount taken amount paid apr aud SSN apr aud SSN apr aud SSN apr aud SSN apr aud SSN apr aud SSN apr aud SSN apr aud total warning email attachment may private confidential received error please delete inform u calling account payable reply via e mail direct email attachment may interfered may contain computer virus defect may successfully replicated system must cautious cannot guarantee receive sent doubt authenticity email please contact u immediately also important check virus defect opening using attachment liability limited resupplying affected attachment\n",
      "168 payment remittance advice payment remittance advice oct payee centelon pty ltd level city rd southbank vic australia payer origin energy service ltd gpo box adelaide sa telephone fax abn following payment remitted bank account please note fund may available next working business day payment reference number payment date oct payment currency aud payment amount bank account remitted remittance detail document reference number document date document amount document currency amount withheld discount taken amount paid jul aud SSN cr jul aud total warning email attachment may private confidential received error please delete inform u calling account payable reply via e mail direct email attachment may interfered may contain computer virus defect may successfully replicated system must cautious cannot guarantee receive sent doubt authenticity email please contact u immediately also important check virus defect opening using attachment liability limited resupplying affected attachment\n",
      "169 myob unpaid invoice summary august hi centelon pty ltd customer receive statement unpaid invoice august invoice unpaid status myob account appear summary go ahead make sure recorded payment right invoice send invoice paid invoice created myob use invoice saved myob software invoice date correct detail especially issue date unpaid invoice going month must dated august ready yet want send statement month head setting turn summary individual customer learn powered\n",
      "170 pfa bill sep consultancy thanks cgas team\n",
      "171 dear nipun ojha query regarding payslip email u contact u regard chandler macleod payroll payroll customer support mulgrave vic chandlermacleodgroup com part rgf staffing acknowledge pay respect aboriginal torres strait islander people past present emerging whose land stand upon today chandler macleod group partner traditional custodian land unleash potential\n",
      "172 hi pfa gnr invoice september thank\n",
      "173 dear nipun ojha query regarding payslip email u contact u regard chandler macleod payroll payroll customer support mulgrave vic chandlermacleodgroup com part rgf staffing acknowledge pay respect aboriginal torres strait islander people past present emerging whose land stand upon today chandler macleod group partner traditional custodian land unleash potential\n",
      "174 myob centelon pty ltd view full invoice detail view invoice dear ap team attached invoice payment due please get touch got question\n",
      "175 click trouble viewing message privacy information receiving email existing customer prospect candidate chandler macleod group limited one associated company occasionally may send email think interest detail protect privacy read complete privacy policy question please contact chandler macleod group click update profile unsubscribe longer wish receive email chandler macleod group limited email sent chandler macleod group ltd level george street sydney nsw australia\n",
      "176 myob centelon solution melbourne view full invoice detail view invoice dear john attached invoice including invoice team well payment due please get touch got question\n",
      "177 myob centelon pty ltd view full invoice detail view invoice dear ap team attached invoice payment due please get touch got question\n",
      "178 myob centelon pty ltd view full invoice detail view invoice dear ap team attached invoice payment due please get touch got question\n",
      "179 hello srividya please find attached herewith invoice pf compliance month aug paid sept request honour\n",
      "180 uber business june uber business statement ready june statement includes summary charge click link download statement link expire day statement always available via dashboard download statement monthly total scheduled payment friday july download summary pdf download transaction csv help uber pacific pty ltd unit connell street nsw sydney australia privacy term\n",
      "181 myob centelon pty ltd view full invoice detail view invoice dear john attached invoice payment due please get touch got question\n",
      "182 dear niranjan varadarajan query regarding payslip email u contact u regard chandler macleod payroll payroll customer support mulgrave vic chandlermacleodgroup com part rgf staffing acknowledge pay respect aboriginal torres strait islander people past present emerging whose land stand upon today chandler macleod group partner traditional custodian land unleash potential\n",
      "183 myob centelon pty ltd view full invoice detail view invoice dear john attached invoice payment due please get touch got question\n",
      "184 hard choose single word describe shelley osborne educator leader freshly minted author shelley new book upskilling imperative launched august hard choose single word describe shelley osborne educator leader freshly minted author shelley new book upskilling imperative launched august shelley lead one highly anticipated session forward virtual learning experience udemy business session cover concept nature workplace learning need change every organisation benefit continuous learning process five main component modernised learning culture save spot read forward speaker spotlight blog post learn shelley got start l passionate harrison street floor san francisco ca unsubscribe\n",
      "185 myob centelon pty ltd view full invoice detail view invoice dear annie attached invoice payment due please get touch got question\n",
      "186 hi ann pfa invoice singapore oct thanks\n",
      "187 dear niranjan varadarajan query regarding payslip email u contact u regard chandler macleod payroll payroll customer support mulgrave vic chandlermacleodgroup com part rgf staffing acknowledge pay respect aboriginal torres strait islander people past present emerging whose land stand upon today chandler macleod group partner traditional custodian land unleash potential\n",
      "188 dear nipun ojha query regarding payslip email u contact u regard chandler macleod payroll payroll customer support mulgrave vic chandlermacleod com part rgf staffing acknowledge pay respect aboriginal torres strait islander people past present emerging whose land stand upon today chandler macleod group partner traditional custodian land unleash potential\n",
      "189 myob centelon pty ltd view full invoice detail view invoice dear annie attached invoice payment due please get touch got question\n",
      "190 myob centelon pty ltd view full invoice detail view invoice dear john attached invoice including invoice team well payment due please get touch got question\n",
      "191 payment remittance advice payment remittance advice jun payee centelon pty ltd level city rd southbank vic australia payer origin energy service ltd gpo box adelaide sa telephone fax abn following payment remitted bank account please note fund may available next working business day payment reference number payment date jun payment currency aud payment amount bank account remitted remittance detail document reference number document date document amount document currency amount withheld discount taken amount paid apr aud total warning email attachment may private confidential received error please delete inform u calling account payable reply via e mail direct email attachment may interfered may contain computer virus defect may successfully replicated system must cautious cannot guarantee receive sent doubt authenticity email please contact u immediately also important check virus defect opening using attachment liability limited resupplying affected attachment\n",
      "192 vodafone processing direct debit soon hi ajit letting know direct debit almost due payment detail payment due date account number current amount owing payment method direct debit bank account reference let know problem processing payment also manage account anytime vodafone vodafone app thanks vodafone team thing need know application feature subject change app free purchase however standard data charge apply download access external link via app used outside australia compatible handset required app subject network limitation information accessed using app may available time free error omission defect email sent vodafone notification address please reply email copyright vodafone pty limited abn\n",
      "193 myob centelon pty ltd view full invoice detail view invoice dear annie attached invoice payment due please get touch got question\n",
      "194 dear sir madam pleased share invoice work done balance fee filing trademark applicationbizessence accelormadrid route please note payment made credit legalogic consulting llp per detail mentioned attached invoice attention requested following contact email case query phone case query PHONE request process said invoice earliest prompt attention highly appreciated thank business pleasure working team stay safe regard poonam ar team legalogic consulting URL cell PHONE unit level pv house damle road lane adjacent indsearch law college road pune maharashtra direction\n",
      "195 myob centelon pty ltd view full invoice detail view invoice dear ap team attached invoice payment due please get touch got question\n",
      "196 please find following attachment accounting voucher pdf created using tally erp\n",
      "197 myob centelon solution melbourne view full invoice detail view invoice dear jennifer attached invoice payment due please get touch got question\n",
      "198 myob centelon pty ltd view full invoice detail view invoice dear annie attached invoice payment due please get touch got question\n",
      "199 hi team process payment reimbursement please attached receipt invoice application finnate trademark uk aud officeworks aud total\n",
      "200 myob centelon solution melbourne view full invoice detail view invoice dear sachin attached invoice payment due please get touch got question\n",
      "201 myob centelon pty ltd view full invoice detail view invoice dear annie attached invoice payment due please get touch got question\n",
      "202 myob centelon solution melbourne view full invoice detail view invoice dear gollogic pty ltd attached invoice payment due please get touch got question\n",
      "203 myob centelon pty ltd view full invoice detail view invoice dear annie attached invoice payment due please get touch got question\n",
      "204 oracle workflow notification fyi shield christopher sent jul id please review purchase order document attached message\n",
      "205 dear niranjan varadarajan query regarding payslip email u contact u regard chandler macleod payroll payroll customer support mulgrave vic chandlermacleodgroup com part rgf staffing acknowledge pay respect aboriginal torres strait islander people past present emerging whose land stand upon today chandler macleod group partner traditional custodian land unleash potential\n",
      "206 dear nipun ojha query regarding payslip email u contact u regard chandler macleod payroll payroll customer support mulgrave vic chandlermacleodgroup com part rgf staffing acknowledge pay respect aboriginal torres strait islander people past present emerging whose land stand upon today chandler macleod group partner traditional custodian land unleash potential\n",
      "207 myob centelon pty ltd view full invoice detail view invoice dear ap team attached invoice payment due please get touch got question\n",
      "208 hi pfa invoice pe vc foundation course\n",
      "209 myob centelon pty ltd view full invoice detail view invoice dear ricky attached invoice payment due please get touch got question\n",
      "210 myob centelon pty ltd view full invoice detail view invoice dear ap team attached invoice payment due please get touch got question\n",
      "211 pfa thanks\n",
      "212 dear niranjan varadarajan query regarding payslip email u contact u regard chandler macleod payroll payroll customer support mulgrave vic chandlermacleod com part rgf staffing acknowledge pay respect aboriginal torres strait islander people past present emerging whose land stand upon today chandler macleod group partner traditional custodian land unleash potential\n",
      "213 myob centelon solution melbourne view full invoice detail view invoice dear sachin attached invoice payment due please get touch got question\n",
      "214 hi ann pfa biz invoice aug thanks\n",
      "215 dear nipun ojha query regarding payslip email u contact u regard chandler macleod payroll payroll customer support mulgrave vic chandlermacleodgroup com part rgf staffing acknowledge pay respect aboriginal torres strait islander people past present emerging whose land stand upon today chandler macleod group partner traditional custodian land unleash potential\n",
      "216 hi pfa yashlaxmi invoice september thank\n",
      "217 hi pfa invoice softline\n",
      "218 please find following attachment accounting voucher pdf created using tally erp\n",
      "219 myob centelon pty ltd view full invoice detail view invoice dear ap team attached invoice payment due please get touch got question\n",
      "220 pfa bill oct consultancy thanks regard cgas team\n",
      "221 dear nipun ojha query regarding payslip email u contact u regard chandler macleod payroll payroll customer support mulgrave vic chandlermacleodgroup com part rgf staffing acknowledge pay respect aboriginal torres strait islander people past present emerging whose land stand upon today chandler macleod group partner traditional custodian land unleash potential\n",
      "222 please find following attachment accounting voucher pdf created using tally erp\n",
      "223 myob centelon pty ltd view full invoice detail view invoice dear annie attached invoice payment due please get touch got question\n",
      "224 dear srividya hope well please find attached invoice month thanks\n",
      "225 myob centelon pty ltd view full invoice detail view invoice dear ap team attached invoice payment due please get touch got question\n",
      "226 dear nipun ojha query regarding payslip email u contact u regard chandler macleod payroll payroll customer support mulgrave vic chandlermacleod com part rgf staffing acknowledge pay respect aboriginal torres strait islander people past present emerging whose land stand upon today chandler macleod group partner traditional custodian land unleash potential\n",
      "227 myob centelon pty ltd view full invoice detail view invoice dear brendan attached invoice payment due please get touch got question\n",
      "228 myob centelon pty ltd view full invoice detail view invoice dear annie attached invoice payment due please get touch got question\n",
      "229 hi pfa softline invoice november tds declaration\n",
      "230 dear niranjan varadarajan query regarding payslip email u contact u regard chandler macleod payroll payroll customer support mulgrave vic chandlermacleodgroup com part rgf staffing acknowledge pay respect aboriginal torres strait islander people past present emerging whose land stand upon today chandler macleod group partner traditional custodian land unleash potential\n",
      "231 dear nipun ojha query regarding payslip email u contact u regard chandler macleod payroll payroll customer support mulgrave vic chandlermacleodgroup com part rgf staffing acknowledge pay respect aboriginal torres strait islander people past present emerging whose land stand upon today chandler macleod group partner traditional custodian land unleash potential\n",
      "232 payment remittance advice payment remittance advice aug payee centelon pty ltd level city rd southbank vic australia payer origin energy service ltd gpo box adelaide sa telephone fax abn following payment remitted bank account please note fund may available next working business day payment reference number payment date aug payment currency aud payment amount bank account remitted remittance detail document reference number document date document amount document currency amount withheld discount taken amount paid jun aud SSN jun aud SSN jun aud SSN jun aud SSN jun aud SSN jun aud SSN jun aud total warning email attachment may private confidential received error please delete inform u calling account payable reply via e mail direct email attachment may interfered may contain computer virus defect may successfully replicated system must cautious cannot guarantee receive sent doubt authenticity email please contact u immediately also important check virus defect opening using attachment liability limited resupplying affected attachment\n",
      "233 hi ann pls find attached ffs sheet mayuri harish payment proceeding thanks sri\n",
      "234 myob centelon pty ltd view full invoice detail view invoice dear annie attached invoice payment due please get touch got question\n",
      "235 uber business september uber business statement ready september statement includes summary charge click link download statement link expire day statement always available via dashboard download statement monthly total scheduled payment saturday october download summary pdf download transaction csv help uber pacific pty ltd unit connell street nsw sydney australia privacy term\n",
      "236 dear sir madam pleased share invoice work done balance fee filing trademark applicationbizessence acceloraustralia please note payment made credit legalogic consulting llp per detail mentioned attached invoice attention requested following contact email case query phone case query PHONE request process said invoice earliest prompt attention highly appreciated thank business pleasure working team stay safe regard poonam ar team legalogic consulting URL cell PHONE unit level pv house damle road lane adjacent indsearch law college road pune maharashtra direction\n",
      "237 dear nipun ojha query regarding payslip email u contact u regard chandler macleod payroll payroll customer support mulgrave vic chandlermacleodgroup com part rgf staffing acknowledge pay respect aboriginal torres strait islander people past present emerging whose land stand upon today chandler macleod group partner traditional custodian land unleash potential\n",
      "238 oracle workflow notification fyi agusi aisha sent sep id please review purchase order document attached message\n",
      "239 myob centelon pty ltd view full invoice detail view invoice dear annie attached invoice payment due please get touch got question\n",
      "240 myob centelon pty ltd view full invoice detail view invoice dear ap team attached invoice payment due please get touch got question\n",
      "241 dear niranjan varadarajan query regarding payslip email u contact u regard chandler macleod payroll payroll customer support mulgrave vic chandlermacleodgroup com part rgf staffing acknowledge pay respect aboriginal torres strait islander people past present emerging whose land stand upon today chandler macleod group partner traditional custodian land unleash potential\n",
      "242 oracle workflow notification fyi procurement buyer sent jul id please review purchase order document attached message\n",
      "243 myob centelon pty ltd view full invoice detail view invoice dear resending amey feb invoice based confirmation provided ricky payment due please get touch got question\n",
      "244 hi team please find invoice laptop year warranty made purchase using personal credit card hence raising request claim please let know need information best ashutosh\n",
      "245 dear customer greeting ttl please release payment priority invoice per govt directive telecom internet service classified essential service order ensure smooth operation urging customer make online payment due date nov service might get interrupted due date due non bill payment already paid please share payment advice tds amount also onwards tds applicable account bcy invoice company name net bal PHONE centelon solution llp please reply back u concern already released payment please share detail urge go digital make online payment outstanding bill earliest enjoy uninterrupted service online payment gateway broadband user URL pay bill using self care portal imanage URL may also choose auto pay bank account using neft rtgs ec credit card URL incase payment done kindly share detail enable u trace credit account regarding tds note per recent update finance act tds tax deducted source rate section revised immediate effect consequently payment make u hereafter whether previous invoice upcoming one request deduct tds instead would applicable payment credited telecom service provided tata thereafter tds certificate may shared u accordingly\n",
      "246 quickbooks invoice cisl centelon solution llp dear centelon pty ltd invoice appreciate prompt payment thanks business centelon solution llp due review pay powered quickbooks centelon solution llp maharashtra cin aam receive email seems fraudulent please check business owner paying intuit inc right reserved privacy security term service\n",
      "247 vodafone processing direct debit soon hi ajit letting know direct debit almost due payment detail payment due date account number current amount owing payment method direct debit bank account reference let know problem processing payment also manage account anytime vodafone vodafone app thanks vodafone team thing need know application feature subject change app free purchase however standard data charge apply download access external link via app used outside australia compatible handset required app subject network limitation information accessed using app may available time free error omission defect email sent vodafone notification address please reply email copyright vodafone pty limited abn\n",
      "248 myob centelon pty ltd view full invoice detail view invoice dear annie attached invoice payment due please get touch got question\n",
      "249 dear nipun ojha query regarding payslip email u contact u regard chandler macleod payroll payroll customer support mulgrave vic chandlermacleod com part rgf staffing acknowledge pay respect aboriginal torres strait islander people past present emerging whose land stand upon today chandler macleod group partner traditional custodian land unleash potential\n",
      "250 dear niranjan varadarajan query regarding payslip email u contact u regard chandler macleod payroll payroll customer support mulgrave vic chandlermacleodgroup com part rgf staffing acknowledge pay respect aboriginal torres strait islander people past present emerging whose land stand upon today chandler macleod group partner traditional custodian land unleash potential\n",
      "251 dear sir madam pleased share invoice work done drafting filing reply provisional refusalfinnateindia please note payment made credit legalogic consulting llp per detail mentioned attached invoice attention requested following contact email case query phone case query PHONE request process said invoice earliest prompt attention highly appreciated thank business pleasure working team stay safe regard poonam ar team legalogic consulting URL cell PHONE unit level pv house damle road lane adjacent indsearch law college road pune maharashtra direction\n",
      "252 dear nipun ojha query regarding payslip email u contact u regard chandler macleod payroll payroll customer support mulgrave vic chandlermacleodgroup com part rgf staffing acknowledge pay respect aboriginal torres strait islander people past present emerging whose land stand upon today chandler macleod group partner traditional custodian land unleash potential\n",
      "253 invoice inv centelon pte ltd fenergo limited view invoice due sep inv hi jennifer invoice inv aud amount outstanding aud due sep view bill online URL online bill print pdf export csv create free login view outstanding bill question please let u know thanks centelon pte ltd\n",
      "254 myob centelon pty ltd view full invoice detail view invoice dear annie attached invoice payment due please get touch got question\n",
      "255 myob centelon pty ltd view full invoice detail view invoice dear annie attached invoice payment due please get touch got question\n",
      "256 myob centelon pty ltd view full invoice detail view invoice dear angela attached invoice payment due please get touch got question\n",
      "257 payment remittance advice payment remittance advice mar payee centelon pty ltd level city rd southbank vic australia payer origin energy service ltd gpo box adelaide sa telephone fax abn following payment remitted bank account please note fund may available next working business day payment reference number payment date mar payment currency aud payment amount bank account remitted remittance detail document reference number document date document amount document currency amount withheld discount taken amount paid jan aud SSN jan aud SSN jan aud total warning email attachment may private confidential received error please delete inform u calling account payable reply via e mail direct email attachment may interfered may contain computer virus defect may successfully replicated system must cautious cannot guarantee receive sent doubt authenticity email please contact u immediately also important check virus defect opening using attachment liability limited resupplying affected attachment\n",
      "258 myob centelon pty ltd view full invoice detail view invoice dear prabhash attached invoice payment due please get touch got question\n",
      "259 reference payment already made\n",
      "260 tds basic total due kindly needful thanking sachin c mahadik karve road yashlaxmi niwas pune call PHONE mobile email firm yash laxmi computer system yash laxmi developer yash laxmi trader asian paint division raje mahadik son hostel niwas yashal son hostel niketan\n",
      "261 myob centelon pty ltd view full invoice detail view invoice dear annie attached invoice payment due please get touch got question\n",
      "262 dear niranjan varadarajan query regarding payslip email u contact u regard chandler macleod payroll payroll customer support mulgrave vic chandlermacleodgroup com part rgf staffing acknowledge pay respect aboriginal torres strait islander people past present emerging whose land stand upon today chandler macleod group partner traditional custodian land unleash potential\n",
      "263 hi mathew please find attached quotation month june july\n",
      "264 myob centelon pty ltd view full invoice detail view invoice dear annie shane attached invoice payment due please get touch got question\n",
      "265 dear niranjan varadarajan query regarding payslip email u contact u regard chandler macleod payroll payroll customer support mulgrave vic chandlermacleodgroup com part rgf staffing acknowledge pay respect aboriginal torres strait islander people past present emerging whose land stand upon today chandler macleod group partner traditional custodian land unleash potential\n",
      "266 hi pfa yashlaxmi invoice december invoice r invoice r tds basic per attached invoice invoice r invoice r total payment dec r thank\n",
      "267 myob centelon pty ltd view full invoice detail view invoice dear david attached invoice payment due please get touch got question\n",
      "268 myob centelon pty ltd view full invoice detail view invoice dear annie attached invoice payment due please get touch got question\n",
      "269 myob centelon pty ltd view full invoice detail view invoice dear annie shane attached invoice payment due please get touch got question\n",
      "270 dear niranjan varadarajan query regarding payslip email u contact u regard chandler macleod payroll payroll customer support mulgrave vic chandlermacleod com part rgf staffing acknowledge pay respect aboriginal torres strait islander people past present emerging whose land stand upon today chandler macleod group partner traditional custodian land unleash potential\n",
      "271 myob centelon solution melbourne view full invoice detail view invoice dear gollogic pty ltd attached invoice payment due please get touch got question\n",
      "272 myob centelon pty ltd view full invoice detail view invoice dear angela attached invoice payment due please get touch got question\n",
      "273 hi mathew went legal logic ledger invoice legal logic dated feb taken march tds missed payment list leave sorry attaching herewith bank upload tds payment interest transfer pay tax thanks\n",
      "274 myob centelon pty ltd view full invoice detail view invoice dear annie attached invoice payment due please get touch got question\n",
      "275 myob centelon pty ltd view full invoice detail view invoice dear annie attached invoice payment due please get touch got question\n",
      "276 dear sir madam pleased share invoice work done advance fee filing trademark applicationfinnate metizuk please note payment made credit legalogic consulting llp per detail mentioned attached invoice attention requested following contact email case query phone case query PHONE request process said invoice earliest prompt attention highly appreciated thank business pleasure working team stay safe regard poonam ar team legalogic consulting URL cell PHONE unit level pv house damle road lane adjacent indsearch law college road pune maharashtra direction\n",
      "277 citipower pty ltd powercor australia ltd email file attachment confidential intended solely use individual entity addressed received email error please tell u immediately return email delete document\n",
      "278 dear nipun ojha query regarding payslip email u contact u regard chandler macleod payroll payroll customer support mulgrave vic chandlermacleodgroup com part rgf staffing acknowledge pay respect aboriginal torres strait islander people past present emerging whose land stand upon today chandler macleod group partner traditional custodian land unleash potential\n",
      "279 myob centelon pty ltd view full invoice detail view invoice dear annie attached invoice payment due please get touch got question\n",
      "280 oracle workflow notification fyi shield christopher sent jun id please review purchase order document attached message\n",
      "281 dear srividya please find attached invoice sept let know could connect discus requirement regarding mentor program thanks\n",
      "282 dear niranjan varadarajan query regarding payslip email u contact u regard chandler macleod payroll payroll customer support mulgrave vic chandlermacleodgroup com part rgf staffing acknowledge pay respect aboriginal torres strait islander people past present emerging whose land stand upon today chandler macleod group partner traditional custodian land unleash potential\n",
      "283 myob centelon pty ltd view full invoice detail view invoice dear john attached invoice payment due please get touch got question\n",
      "284 dear nipun ojha query regarding payslip email u contact u regard chandler macleod payroll payroll customer support mulgrave vic chandlermacleodgroup com part rgf staffing acknowledge pay respect aboriginal torres strait islander people past present emerging whose land stand upon today chandler macleod group partner traditional custodian land unleash potential\n",
      "285 quickbooks invoice detail bizessence consultancy service pvt ltd dear centelon solution llp invoice appreciate prompt payment great day bizessence consultancy service pvt ltd due inr review pay powered quickbooks bill centelon solution llp floor ghule square bavdhan bk pune maharashtra india state code gstin ship centelon solution llp floor ghule square bavdhan bk pune maharashtra india state code term net inter company domestic inr ope source project x inr igst subtotal inr igst inr total inr tds amount inr balance due inr review pay bizessence consultancy service pvt ltd floor rajagiri business school near conference room kakkanad cochin kerala gstin receive email seems fraudulent please check business owner paying intuit inc right reserved privacy security term service\n",
      "286 hi team keep posted launching paid linkedin campaign web launch post respective amount would get debited card detail date september spends per day inr total amount inr may exceed little per linkedin algorithm campaign india please let u know case query siddhi tatiya marketing consultant email PHONE floor ghule square dsk ranwara road bavdhan pune\n",
      "287 myob centelon pty ltd view full invoice detail view invoice dear robin attached invoice payment due please get touch got question\n",
      "288 oracle workflow notification fyi shield christopher sent jun id please review purchase order document attached message\n",
      "289 payment remittance advice payment remittance advice oct payee centelon pty ltd level city rd southbank vic australia payer origin energy service ltd gpo box adelaide sa telephone fax abn following payment remitted bank account please note fund may available next working business day payment reference number payment date oct payment currency aud payment amount bank account remitted remittance detail document reference number document date document amount document currency amount withheld discount taken amount paid jul aud SSN cr jul aud SSN aug aud SSN aug aud SSN aug aud SSN aug aud SSN aug aud SSN aug aud SSN aug aud total warning email attachment may private confidential received error please delete inform u calling account payable reply via e mail direct email attachment may interfered may contain computer virus defect may successfully replicated system must cautious cannot guarantee receive sent doubt authenticity email please contact u immediately also important check virus defect opening using attachment liability limited resupplying affected attachment\n",
      "290 oracle workflow notification fyi procurement buyer sent jun id please review purchase order document attached message\n",
      "291 hello team please process reimbursement attached bill car registration vicroads total cost\n",
      "292 oracle workflow notification fyi chochol anna sent oct id please review purchase order document attached message\n",
      "293 myob centelon pty ltd view full invoice detail view invoice dear ap team attached invoice payment due please get touch got question\n",
      "294 myob centelon pty ltd view full invoice detail view invoice dear john attached invoice payment due please get touch got question\n",
      "295 vodafone detail next direct debt payment hi manoj quick head direct debit payment almost due process automatically nothing need detail payment detail payment due date account number current amount owing payment method direct debit mastercard reference let know problem processing payment also manage account anytime vodafone vodafone app thanks vodafone team thing need know application feature subject change app free purchase however standard data charge apply download access external link via app used outside australia compatible handset required app subject network limitation information accessed using app may available time free error omission defect email sent vodafone notification address please reply email copyright vodafone pty limited abn\n",
      "296 myob unpaid invoice summary september hi centelon pty ltd customer receive statement unpaid invoice september invoice unpaid status myob account appear summary go ahead make sure recorded payment right invoice send invoice paid invoice created myob use invoice saved myob software invoice date correct detail especially issue date unpaid invoice going month must dated september ready yet want send statement month head setting turn summary individual customer learn powered\n",
      "297 hello team please process reimbursement attached bill summary given date description net amount gst total amount officeworks officeworks goodguys SSN officeworks quickpickmovers ikea SSN ikea bunnings bunnings total\n",
      "298 myob centelon pty ltd view full invoice detail view invoice dear annie attached invoice payment due please get touch got question\n",
      "299 pfa thanks\n",
      "300 oracle workflow notification fyi agusi aisha sent oct id please review purchase order document attached message\n",
      "301 vodafone processing direct debit soon hi manoj letting know direct debit almost due payment detail payment due date account number current amount owing payment method direct debit mastercard reference let know problem processing payment also manage account anytime vodafone vodafone app thanks vodafone team thing need know application feature subject change app free purchase however standard data charge apply download access external link via app used outside australia compatible handset required app subject network limitation information accessed using app may available time free error omission defect email sent vodafone notification address please reply email copyright vodafone pty limited abn\n",
      "302 payment remittance advice payment remittance advice jul payee centelon pty ltd level city rd southbank vic australia payer origin energy service ltd gpo box adelaide sa telephone fax abn following payment remitted bank account please note fund may available next working business day payment reference number payment date jul payment currency aud payment amount bank account remitted remittance detail document reference number document date document amount document currency amount withheld discount taken amount paid may aud SSN may aud SSN may aud SSN may aud SSN may aud SSN may aud SSN may aud SSN may aud SSN may aud total warning email attachment may private confidential received error please delete inform u calling account payable reply via e mail direct email attachment may interfered may contain computer virus defect may successfully replicated system must cautious cannot guarantee receive sent doubt authenticity email please contact u immediately also important check virus defect opening using attachment liability limited resupplying affected attachment\n",
      "303 myob centelon pty ltd view full invoice detail view invoice dear annie attached invoice payment due please get touch got question\n",
      "304 hi nipun hope well received confirmation agl extend contract per attached condition assignment please sign return condition assignment confirm acceptance feel free contact question\n",
      "305 myob centelon pty ltd view full invoice detail view invoice dear annie attached invoice payment due please get touch got question\n",
      "306 myob centelon pty ltd view full invoice detail view invoice dear david attached invoice payment due please get touch got question\n",
      "307 dear sir madam please find attachment invoice copy reference please make payment soon possible note pls acknowledge return mail receipt bill thanks regard dinesh patil gnr solution pvt ltd h gera junction lulla nagar kondhwa road pune mo PHONE office email id website URL\n",
      "308 dear nipun ojha query regarding payslip email u contact u regard chandler macleod payroll payroll customer support mulgrave vic chandlermacleodgroup com part rgf staffing acknowledge pay respect aboriginal torres strait islander people past present emerging whose land stand upon today chandler macleod group partner traditional custodian land unleash potential\n",
      "309 dear niranjan varadarajan query regarding payslip email u contact u regard chandler macleod payroll payroll customer support mulgrave vic chandlermacleodgroup com part rgf staffing acknowledge pay respect aboriginal torres strait islander people past present emerging whose land stand upon today chandler macleod group partner traditional custodian land unleash potential\n",
      "310 dear pl see attached invoice per qtn accordingly arrange rtgs regard iso certification office bungalow near pcmc school damodar mali marg vikas nagar dehu road pune maharashtra india PHONE e mail search excellence\n",
      "311 myob centelon pty ltd view full invoice detail view invoice dear annie attached invoice payment due please get touch got question\n",
      "312 uber business august uber business statement ready august statement includes summary charge click link download statement link expire day statement always available via dashboard download statement monthly total scheduled payment wednesday september download summary pdf download transaction csv help uber pacific pty ltd unit connell street nsw sydney australia privacy term\n",
      "313 myob centelon pty ltd view full invoice detail view invoice dear ap team attached invoice payment due please get touch got question\n",
      "314 dear sir please see attachment ledger statement query feel free discus\n",
      "315 dear nipun ojha query regarding payslip email u contact u regard chandler macleod payroll payroll customer support mulgrave vic chandlermacleodgroup com part rgf staffing acknowledge pay respect aboriginal torres strait islander people past present emerging whose land stand upon today chandler macleod group partner traditional custodian land unleash potential\n",
      "316 dear nipun ojha query regarding payslip email u contact u regard chandler macleod payroll payroll customer support mulgrave vic chandlermacleodgroup com part rgf staffing acknowledge pay respect aboriginal torres strait islander people past present emerging whose land stand upon today chandler macleod group partner traditional custodian land unleash potential\n",
      "317 hi team please help u process attached invoice brochure created vendor brochure topic business service amount siddhi tatiya marketing consultant email PHONE floor ghule square dsk ranwara road bavdhan pune\n",
      "318 myob centelon pty ltd view full invoice detail view invoice dear annie attached invoice payment due please get touch got question\n",
      "319 myob centelon pty ltd view full invoice detail view invoice dear annie attached invoice payment due please get touch got question\n",
      "320 myob centelon pty ltd view full invoice detail view invoice dear annie attached invoice payment due please get touch got question\n",
      "321 myob centelon pty ltd view full invoice detail view invoice dear brendan attached invoice payment due please get touch got question\n",
      "322 dear valued customer attached udemy invoice tax id wire instruction listed invoice please include invoice number submitting payment please note corporate headquarters currently closed observation ordinance city san francisco state california accepting physical check mailed hq address please send check lockbox address udemy inc po box il link pay credit card URL link work microsoft internet explorer browser please use alternate browser google chrome apology inconvenience require po number referenced invoice please provide po number update invoice enable make payment additionally proper contact payment processing invoice please forward invoice relevant person department contact u update record billing payment question please contact u inquiry please contact sincerely account receivable team voted best place work bay area\n",
      "323 dear sir madam please find attached invoice service rendered ernst young query attached please contact ernst young representative ernst young committed reducing volume distribution printed material generated business sending invoice via email kindly regard tt invoicing australia finance account receivable direct hour support monday friday aest also contacted website URL thank considering environmental impact printing email click raise complaint quality service information contained communication intended solely use individual entity addressed others authorized receive may contain confidential legally privileged information intended recipient hereby notified disclosure copying distribution taking action reliance content information strictly prohibited may unlawful received communication error please notify u immediately responding email delete system ey neither liable proper complete transmission information contained communication delay receipt\n",
      "324 hi pfa invoice firewall device thank\n",
      "325 myob centelon pty ltd view full invoice detail view invoice dear ap team attached invoice payment due please get touch got question\n",
      "326 dear nipun ojha query regarding payslip email u contact u regard chandler macleod payroll payroll customer support mulgrave vic chandlermacleod com part rgf staffing acknowledge pay respect aboriginal torres strait islander people past present emerging whose land stand upon today chandler macleod group partner traditional custodian land unleash potential\n",
      "327 myob centelon pty ltd view full invoice detail view invoice dear john attached invoice payment due please get touch got question\n",
      "328 email dear centelon solution please find attached payment advice oct please review attached pdf detail payment\n",
      "329 payment remittance advice payment remittance advice nov payee centelon pty ltd level city rd southbank vic australia payer origin energy service ltd gpo box adelaide sa telephone fax abn following payment remitted bank account please note fund may available next working business day payment reference number payment date nov payment currency aud payment amount bank account remitted remittance detail document reference number document date document amount document currency amount withheld discount taken amount paid aug aud SSN sep aud total warning email attachment may private confidential received error please delete inform u calling account payable reply via e mail direct email attachment may interfered may contain computer virus defect may successfully replicated system must cautious cannot guarantee receive sent doubt authenticity email please contact u immediately also important check virus defect opening using attachment liability limited resupplying affected attachment\n",
      "330 oracle workflow notification fyi agusi aisha sent jun id please review purchase order document attached message\n",
      "331 dear sir madam please find attached invoice service rendered ernst young query attached please contact ernst young representative ernst young committed reducing volume distribution printed material generated business sending invoice via email\n",
      "332 email dear centelon solution please find attached payment advice jul please review attached pdf detail payment\n",
      "333 myob centelon pty ltd view full invoice detail view invoice dear ap team attached invoice payment due please get touch got question\n",
      "334 myob centelon pty ltd view full invoice detail view invoice dear brendan gunjan attached invoice payment due please get touch got question\n",
      "335 dear sir madam pleased share invoice work done drafting filing responce refusalmetizindia please note payment made credit legalogic consulting llp per detail mentioned attached invoice attention requested following contact email case query phone case query PHONE request process said invoice earliest prompt attention highly appreciated thank business pleasure working team stay safe regard poonam ar team legalogic consulting URL cell PHONE unit level pv house damle road lane adjacent indsearch law college road pune maharashtra direction\n",
      "336 vodafone hi ajit stephen latest vodafone bill account available view bill change detail track usage head vodafone today thanks vodafone team account number invoice number total balance due direct debit sep download bill pay privacy policy pay bill important info pdf bill actual invoice showing bill amount due date payment view clicking download bill button protect personal information vodafone recommends clear internet browser history bill fully downloaded bill contains minimum monthly charge advance may show extra charge exceed plan allowance use service included plan within previous billing period changed plan upgraded bill pretty straightforward see charge new plan moved month ahead well first instalment got new device monthly payment plan chosen receive bill email change login vodafone view bill best download latest version adobe reader email sent vodafone address cannot replied tpg telecom limited abn\n",
      "337 equifax invoice dear centelon pty ltd please find attached pdf equifax invoice download detailed transaction usage file please login invoice portal URL sincerely equifax team e\n",
      "338 myob centelon pty ltd view full invoice detail view invoice dear john attached invoice payment due please get touch got question\n",
      "339 dear niranjan varadarajan query regarding payslip email u contact u regard chandler macleod payroll payroll customer support mulgrave vic chandlermacleodgroup com part rgf staffing acknowledge pay respect aboriginal torres strait islander people past present emerging whose land stand upon today chandler macleod group partner traditional custodian land unleash potential\n",
      "340 dear customer value association u thank using product service please find attached tata tele business service bill copy invoice PHONE online immediate reflecting system payment URL rtgs neft payment tata teleservices ltd detail attached case query clarification please feel free write u call PHONE p please remember mention invoice number future payment tata teleservices case tds deducted please revert invoice amount post tds amount system kindly ignore mail payment already made enclosed invoice manage service using self care portal imanage raise track service request view pay bill monitor live usage lot visit URL regard customer support prime teleservices pvt ltd associate partner tata teleservices ltd\n",
      "341 dear sir madam received invoice dated july far\n",
      "342 myob centelon pty ltd view full invoice detail view invoice dear ricky attached invoice payment due please get touch got question\n",
      "343 myob centelon pty ltd view full invoice detail view invoice dear ap team attached invoice payment due please get touch got question\n",
      "344 vodafone hi manoj marathe latest vodafone bill account available view bill change detail track usage head vodafone today thanks vodafone team account number invoice number total balance due direct debit sep download bill pay privacy policy pay bill important info pdf bill actual invoice showing bill amount due date payment view clicking download bill button protect personal information vodafone recommends clear internet browser history bill fully downloaded bill contains minimum monthly charge advance may show extra charge exceed plan allowance use service included plan within previous billing period changed plan upgraded bill pretty straightforward see charge new plan moved month ahead well first instalment got new device monthly payment plan chosen receive bill email change login vodafone view bill best download latest version adobe reader email sent vodafone address cannot replied tpg telecom limited abn\n",
      "345 myob centelon pty ltd view full invoice detail view invoice dear ap team attached invoice payment due please get touch got question\n",
      "346 dear prabhash please find attached bill service offered bizsense regard anand joshi\n",
      "347 oracle workflow notification fyi kisi brodie sent jun id please review purchase order document attached message\n",
      "348 hi mathew please arrange payment asap regard r ramesh win technology rental chennai bangalore hyderabad support pan india observe social distancing stay safe fyi hi mathew attached sep oct invoice payment regard r ramesh win technology rental chennai bangalore hyderabad support pan india observe social distancing stay safe hi ramesh please date invoice october\n",
      "349 dear niranjan varadarajan query regarding payslip email u contact u regard chandler macleod payroll payroll customer support mulgrave vic chandlermacleodgroup com part rgf staffing acknowledge pay respect aboriginal torres strait islander people past present emerging whose land stand upon today chandler macleod group partner traditional custodian land unleash potential\n",
      "350 myob centelon pty ltd view full invoice detail view invoice dear john attached invoice payment due please get touch got question\n",
      "351 myob centelon pty ltd view full invoice detail view invoice dear gunjan brendan attached invoice payment due please get touch got question\n"
     ]
    }
   ],
   "source": [
    "for i, tokens in enumerate(tokenized_email):\n",
    "    tokenized_email[i] = \" \".join(tokens)\n",
    "    print(i,\" \".join(tokens))\n",
    "\n",
    "#df_email['lematized_email'] = tokenized_email\n",
    "#df_email.head(10)"
   ]
  },
  {
   "cell_type": "code",
   "execution_count": 383,
   "metadata": {},
   "outputs": [
    {
     "data": {
      "text/html": [
       "<div>\n",
       "<style scoped>\n",
       "    .dataframe tbody tr th:only-of-type {\n",
       "        vertical-align: middle;\n",
       "    }\n",
       "\n",
       "    .dataframe tbody tr th {\n",
       "        vertical-align: top;\n",
       "    }\n",
       "\n",
       "    .dataframe thead th {\n",
       "        text-align: right;\n",
       "    }\n",
       "</style>\n",
       "<table border=\"1\" class=\"dataframe\">\n",
       "  <thead>\n",
       "    <tr style=\"text-align: right;\">\n",
       "      <th></th>\n",
       "      <th>email</th>\n",
       "      <th>category</th>\n",
       "      <th>lematized_email</th>\n",
       "    </tr>\n",
       "  </thead>\n",
       "  <tbody>\n",
       "    <tr>\n",
       "      <th>342</th>\n",
       "      <td>myob centelon pty ltd view full invoice detail...</td>\n",
       "      <td>AR</td>\n",
       "      <td>myob centelon pty ltd view full invoice detail...</td>\n",
       "    </tr>\n",
       "    <tr>\n",
       "      <th>343</th>\n",
       "      <td>myob centelon pty ltd view full invoice detail...</td>\n",
       "      <td>NAR</td>\n",
       "      <td>myob centelon pty ltd view full invoice detail...</td>\n",
       "    </tr>\n",
       "    <tr>\n",
       "      <th>344</th>\n",
       "      <td>vodafone hi manoj marathe latest vodafone bill...</td>\n",
       "      <td>NAR</td>\n",
       "      <td>vodafone hi manoj marathe latest vodafone bill...</td>\n",
       "    </tr>\n",
       "    <tr>\n",
       "      <th>345</th>\n",
       "      <td>myob centelon pty ltd view full invoice detail...</td>\n",
       "      <td>NAR</td>\n",
       "      <td>myob centelon pty ltd view full invoice detail...</td>\n",
       "    </tr>\n",
       "    <tr>\n",
       "      <th>346</th>\n",
       "      <td>dear prabhash please find attached bill servic...</td>\n",
       "      <td>AR</td>\n",
       "      <td>dear prabhash please find attached bill servic...</td>\n",
       "    </tr>\n",
       "    <tr>\n",
       "      <th>347</th>\n",
       "      <td>oracle workflow notification fyi kisi brodie s...</td>\n",
       "      <td>AR</td>\n",
       "      <td>oracle workflow notification fyi kisi brodie s...</td>\n",
       "    </tr>\n",
       "    <tr>\n",
       "      <th>348</th>\n",
       "      <td>hi mathew please arrange payment asap regards ...</td>\n",
       "      <td>AR</td>\n",
       "      <td>hi mathew please arrange payment asap regard r...</td>\n",
       "    </tr>\n",
       "    <tr>\n",
       "      <th>349</th>\n",
       "      <td>dear niranjan varadarajan queries regarding pa...</td>\n",
       "      <td>NAR</td>\n",
       "      <td>dear niranjan varadarajan query regarding pays...</td>\n",
       "    </tr>\n",
       "    <tr>\n",
       "      <th>350</th>\n",
       "      <td>myob centelon pty ltd view full invoice detail...</td>\n",
       "      <td>NAR</td>\n",
       "      <td>myob centelon pty ltd view full invoice detail...</td>\n",
       "    </tr>\n",
       "    <tr>\n",
       "      <th>351</th>\n",
       "      <td>myob centelon pty ltd view full invoice detail...</td>\n",
       "      <td>NAR</td>\n",
       "      <td>myob centelon pty ltd view full invoice detail...</td>\n",
       "    </tr>\n",
       "  </tbody>\n",
       "</table>\n",
       "</div>"
      ],
      "text/plain": [
       "                                                 email category  \\\n",
       "342  myob centelon pty ltd view full invoice detail...       AR   \n",
       "343  myob centelon pty ltd view full invoice detail...      NAR   \n",
       "344  vodafone hi manoj marathe latest vodafone bill...      NAR   \n",
       "345  myob centelon pty ltd view full invoice detail...      NAR   \n",
       "346  dear prabhash please find attached bill servic...       AR   \n",
       "347  oracle workflow notification fyi kisi brodie s...       AR   \n",
       "348  hi mathew please arrange payment asap regards ...       AR   \n",
       "349  dear niranjan varadarajan queries regarding pa...      NAR   \n",
       "350  myob centelon pty ltd view full invoice detail...      NAR   \n",
       "351  myob centelon pty ltd view full invoice detail...      NAR   \n",
       "\n",
       "                                       lematized_email  \n",
       "342  myob centelon pty ltd view full invoice detail...  \n",
       "343  myob centelon pty ltd view full invoice detail...  \n",
       "344  vodafone hi manoj marathe latest vodafone bill...  \n",
       "345  myob centelon pty ltd view full invoice detail...  \n",
       "346  dear prabhash please find attached bill servic...  \n",
       "347  oracle workflow notification fyi kisi brodie s...  \n",
       "348  hi mathew please arrange payment asap regard r...  \n",
       "349  dear niranjan varadarajan query regarding pays...  \n",
       "350  myob centelon pty ltd view full invoice detail...  \n",
       "351  myob centelon pty ltd view full invoice detail...  "
      ]
     },
     "execution_count": 383,
     "metadata": {},
     "output_type": "execute_result"
    }
   ],
   "source": [
    "\n",
    "df_email['lematized_email'] = tokenized_email\n",
    "df_email.tail(10)"
   ]
  },
  {
   "cell_type": "code",
   "execution_count": 384,
   "metadata": {},
   "outputs": [],
   "source": [
    "from sklearn.preprocessing import LabelEncoder\n",
    "le=LabelEncoder()\n",
    "df_email['category']=le.fit_transform(df_email['category'])"
   ]
  },
  {
   "cell_type": "code",
   "execution_count": 385,
   "metadata": {},
   "outputs": [
    {
     "data": {
      "text/html": [
       "<div>\n",
       "<style scoped>\n",
       "    .dataframe tbody tr th:only-of-type {\n",
       "        vertical-align: middle;\n",
       "    }\n",
       "\n",
       "    .dataframe tbody tr th {\n",
       "        vertical-align: top;\n",
       "    }\n",
       "\n",
       "    .dataframe thead th {\n",
       "        text-align: right;\n",
       "    }\n",
       "</style>\n",
       "<table border=\"1\" class=\"dataframe\">\n",
       "  <thead>\n",
       "    <tr style=\"text-align: right;\">\n",
       "      <th></th>\n",
       "      <th>email</th>\n",
       "      <th>category</th>\n",
       "      <th>lematized_email</th>\n",
       "    </tr>\n",
       "  </thead>\n",
       "  <tbody>\n",
       "    <tr>\n",
       "      <th>342</th>\n",
       "      <td>myob centelon pty ltd view full invoice detail...</td>\n",
       "      <td>0</td>\n",
       "      <td>myob centelon pty ltd view full invoice detail...</td>\n",
       "    </tr>\n",
       "    <tr>\n",
       "      <th>343</th>\n",
       "      <td>myob centelon pty ltd view full invoice detail...</td>\n",
       "      <td>1</td>\n",
       "      <td>myob centelon pty ltd view full invoice detail...</td>\n",
       "    </tr>\n",
       "    <tr>\n",
       "      <th>344</th>\n",
       "      <td>vodafone hi manoj marathe latest vodafone bill...</td>\n",
       "      <td>1</td>\n",
       "      <td>vodafone hi manoj marathe latest vodafone bill...</td>\n",
       "    </tr>\n",
       "    <tr>\n",
       "      <th>345</th>\n",
       "      <td>myob centelon pty ltd view full invoice detail...</td>\n",
       "      <td>1</td>\n",
       "      <td>myob centelon pty ltd view full invoice detail...</td>\n",
       "    </tr>\n",
       "    <tr>\n",
       "      <th>346</th>\n",
       "      <td>dear prabhash please find attached bill servic...</td>\n",
       "      <td>0</td>\n",
       "      <td>dear prabhash please find attached bill servic...</td>\n",
       "    </tr>\n",
       "    <tr>\n",
       "      <th>347</th>\n",
       "      <td>oracle workflow notification fyi kisi brodie s...</td>\n",
       "      <td>0</td>\n",
       "      <td>oracle workflow notification fyi kisi brodie s...</td>\n",
       "    </tr>\n",
       "    <tr>\n",
       "      <th>348</th>\n",
       "      <td>hi mathew please arrange payment asap regards ...</td>\n",
       "      <td>0</td>\n",
       "      <td>hi mathew please arrange payment asap regard r...</td>\n",
       "    </tr>\n",
       "    <tr>\n",
       "      <th>349</th>\n",
       "      <td>dear niranjan varadarajan queries regarding pa...</td>\n",
       "      <td>1</td>\n",
       "      <td>dear niranjan varadarajan query regarding pays...</td>\n",
       "    </tr>\n",
       "    <tr>\n",
       "      <th>350</th>\n",
       "      <td>myob centelon pty ltd view full invoice detail...</td>\n",
       "      <td>1</td>\n",
       "      <td>myob centelon pty ltd view full invoice detail...</td>\n",
       "    </tr>\n",
       "    <tr>\n",
       "      <th>351</th>\n",
       "      <td>myob centelon pty ltd view full invoice detail...</td>\n",
       "      <td>1</td>\n",
       "      <td>myob centelon pty ltd view full invoice detail...</td>\n",
       "    </tr>\n",
       "  </tbody>\n",
       "</table>\n",
       "</div>"
      ],
      "text/plain": [
       "                                                 email  category  \\\n",
       "342  myob centelon pty ltd view full invoice detail...         0   \n",
       "343  myob centelon pty ltd view full invoice detail...         1   \n",
       "344  vodafone hi manoj marathe latest vodafone bill...         1   \n",
       "345  myob centelon pty ltd view full invoice detail...         1   \n",
       "346  dear prabhash please find attached bill servic...         0   \n",
       "347  oracle workflow notification fyi kisi brodie s...         0   \n",
       "348  hi mathew please arrange payment asap regards ...         0   \n",
       "349  dear niranjan varadarajan queries regarding pa...         1   \n",
       "350  myob centelon pty ltd view full invoice detail...         1   \n",
       "351  myob centelon pty ltd view full invoice detail...         1   \n",
       "\n",
       "                                       lematized_email  \n",
       "342  myob centelon pty ltd view full invoice detail...  \n",
       "343  myob centelon pty ltd view full invoice detail...  \n",
       "344  vodafone hi manoj marathe latest vodafone bill...  \n",
       "345  myob centelon pty ltd view full invoice detail...  \n",
       "346  dear prabhash please find attached bill servic...  \n",
       "347  oracle workflow notification fyi kisi brodie s...  \n",
       "348  hi mathew please arrange payment asap regard r...  \n",
       "349  dear niranjan varadarajan query regarding pays...  \n",
       "350  myob centelon pty ltd view full invoice detail...  \n",
       "351  myob centelon pty ltd view full invoice detail...  "
      ]
     },
     "execution_count": 385,
     "metadata": {},
     "output_type": "execute_result"
    }
   ],
   "source": [
    "df_email.tail(10)"
   ]
  },
  {
   "cell_type": "markdown",
   "metadata": {},
   "source": [
    "# AR - 0\n",
    "# NAR - 1"
   ]
  },
  {
   "cell_type": "code",
   "execution_count": 550,
   "metadata": {},
   "outputs": [],
   "source": [
    "X = df_email[\"lematized_email\"]\n",
    "y = df_email[\"category\"]"
   ]
  },
  {
   "cell_type": "code",
   "execution_count": 562,
   "metadata": {},
   "outputs": [],
   "source": [
    "from sklearn.model_selection import train_test_split\n",
    "X_train,X_test,y_train,y_test=train_test_split(X,y,random_state=0,test_size=0.1)\n"
   ]
  },
  {
   "cell_type": "code",
   "execution_count": 563,
   "metadata": {},
   "outputs": [],
   "source": [
    "# X_train = X_train.values.tolist()\n",
    "# X_test  = X_test.values.tolist()\n",
    "# y_train = np.array(y_train)\n",
    "# y_test  = np.array(y_test)"
   ]
  },
  {
   "cell_type": "code",
   "execution_count": 564,
   "metadata": {},
   "outputs": [],
   "source": [
    "from sklearn.feature_extraction.text import CountVectorizer"
   ]
  },
  {
   "cell_type": "code",
   "execution_count": 565,
   "metadata": {},
   "outputs": [],
   "source": [
    "# text_clf = Pipeline([('vect', CountVectorizer()),\n",
    "#                      ('tfidf', TfidfTransformer()),\n",
    "#                      ('clf', SVC()),\n",
    "#                      ])"
   ]
  },
  {
   "cell_type": "code",
   "execution_count": 566,
   "metadata": {},
   "outputs": [],
   "source": [
    "# from sklearn import metrics\n",
    "# text_clf.fit(list(X_train), list(y_train))\n",
    "# predicted = text_clf.predict(list(X_test))\n",
    "# print(metrics.classification_report(list(y_test), predicted))"
   ]
  },
  {
   "cell_type": "markdown",
   "metadata": {},
   "source": [
    "# Countvectorizer"
   ]
  },
  {
   "cell_type": "code",
   "execution_count": 567,
   "metadata": {},
   "outputs": [],
   "source": [
    "cv = CountVectorizer(analyzer='word', token_pattern=r'\\w{1,}')\n",
    "X_train = cv.fit_transform(X_train)\n",
    "X_test = cv.transform(X_test)"
   ]
  },
  {
   "cell_type": "markdown",
   "metadata": {},
   "source": [
    "# TFIDF Matrix"
   ]
  },
  {
   "cell_type": "code",
   "execution_count": 568,
   "metadata": {},
   "outputs": [],
   "source": [
    "\n",
    "# Tfidf_vect  = TfidfVectorizer(analyzer='char', token_pattern=r'\\w{1,}', ngram_range=(2,3), max_features=1200)\n",
    "\n",
    "# tfidf_model = Tfidf_vect.fit(df_email[\"lematized_email\"])\n",
    "\n",
    "# X_train = Tfidf_vect.transform(X_train)\n",
    "# X_test = Tfidf_vect.transform(X_test)\n",
    "\n"
   ]
  },
  {
   "cell_type": "code",
   "execution_count": 569,
   "metadata": {},
   "outputs": [
    {
     "name": "stdout",
     "output_type": "stream",
     "text": [
      "(316, 1276)\n"
     ]
    }
   ],
   "source": [
    "print(X_train.shape)"
   ]
  },
  {
   "cell_type": "code",
   "execution_count": 570,
   "metadata": {},
   "outputs": [],
   "source": [
    "# SVM = SVC(C=1.0, kernel='linear', degree=3, gamma='auto')\n",
    "# model=SVM.fit(X_train_Tfidf,y_train)\n",
    "# # # predict the labels on validation dataset\n",
    "# predictions_SVM = SVM.predict(X_test_Tfidf)\n",
    "# # # Use accuracy_score function to get the accuracy\n",
    "# print(\"SVM Accuracy Score -> \",accuracy_score(predictions_SVM, y_test)*100)"
   ]
  },
  {
   "cell_type": "markdown",
   "metadata": {},
   "source": [
    "# Model Building"
   ]
  },
  {
   "cell_type": "markdown",
   "metadata": {},
   "source": [
    "# Logistic Regression"
   ]
  },
  {
   "cell_type": "code",
   "execution_count": 571,
   "metadata": {},
   "outputs": [
    {
     "name": "stdout",
     "output_type": "stream",
     "text": [
      "CONFUSION MATRIX \n",
      " [[10  5]\n",
      " [ 3 18]]\n",
      "************************************************************\n",
      "              precision    recall  f1-score   support\n",
      "\n",
      "           0       0.77      0.67      0.71        15\n",
      "           1       0.78      0.86      0.82        21\n",
      "\n",
      "    accuracy                           0.78        36\n",
      "   macro avg       0.78      0.76      0.77        36\n",
      "weighted avg       0.78      0.78      0.77        36\n",
      "\n"
     ]
    },
    {
     "name": "stderr",
     "output_type": "stream",
     "text": [
      "C:\\Users\\mansurya\\Anaconda3\\lib\\site-packages\\sklearn\\linear_model\\_logistic.py:762: ConvergenceWarning: lbfgs failed to converge (status=1):\n",
      "STOP: TOTAL NO. of ITERATIONS REACHED LIMIT.\n",
      "\n",
      "Increase the number of iterations (max_iter) or scale the data as shown in:\n",
      "    https://scikit-learn.org/stable/modules/preprocessing.html\n",
      "Please also refer to the documentation for alternative solver options:\n",
      "    https://scikit-learn.org/stable/modules/linear_model.html#logistic-regression\n",
      "  n_iter_i = _check_optimize_result(\n"
     ]
    }
   ],
   "source": [
    "LGM = LogisticRegression()\n",
    "LGM.fit(X_train, y_train)\n",
    "\n",
    "# Prediction on test data\n",
    "pred_LGM = LGM.predict(X_test)\n",
    "\n",
    "# Building confusion matrix using test data and predictions\n",
    "CF_LGM = confusion_matrix(y_test,pred_LGM)\n",
    "print(\"CONFUSION MATRIX\",\"\\n\",CF_LGM)\n",
    "\n",
    "print(\"*\"*60)\n",
    "\n",
    "# Fianl results with accuracy, precision and recall\n",
    "CL_LGM = classification_report(y_test,pred_LGM)\n",
    "print(CL_LGM)\n"
   ]
  },
  {
   "cell_type": "markdown",
   "metadata": {},
   "source": [
    "# NAIVE BAYES"
   ]
  },
  {
   "cell_type": "code",
   "execution_count": 572,
   "metadata": {},
   "outputs": [
    {
     "name": "stdout",
     "output_type": "stream",
     "text": [
      "CONFUSION MATRIX \n",
      " [[12  3]\n",
      " [ 3 18]]\n",
      "************************************************************\n",
      "              precision    recall  f1-score   support\n",
      "\n",
      "           0       0.80      0.80      0.80        15\n",
      "           1       0.86      0.86      0.86        21\n",
      "\n",
      "    accuracy                           0.83        36\n",
      "   macro avg       0.83      0.83      0.83        36\n",
      "weighted avg       0.83      0.83      0.83        36\n",
      "\n"
     ]
    }
   ],
   "source": [
    "from sklearn.naive_bayes import MultinomialNB\n",
    "nb = MultinomialNB(alpha=.01)\n",
    "nb.fit(X_train, y_train)\n",
    "\n",
    "# Prediction on test data\n",
    "pred = nb.predict(X_test)\n",
    "\n",
    "# Building confusion matrix using test data and predictions\n",
    "cf = confusion_matrix(y_test,pred)\n",
    "print(\"CONFUSION MATRIX\",\"\\n\",cf)\n",
    "\n",
    "print(\"*\"*60)\n",
    "\n",
    "# Fianl results with accuracy, precision and recall\n",
    "cl = classification_report(y_test,pred)\n",
    "print(cl)\n"
   ]
  },
  {
   "cell_type": "markdown",
   "metadata": {},
   "source": [
    "# Testing "
   ]
  },
  {
   "cell_type": "code",
   "execution_count": 573,
   "metadata": {},
   "outputs": [],
   "source": [
    "# email = \"\"\"Dear Srividya,\n",
    "\n",
    "# Please find attached herewith the PF Challan of centelon for Nov 2020 for your review. If you find the same in order then please transfer Rs 266376/- for making payment of the same.\n",
    "\n",
    "# Also attached herewith is the invoice for this month, request you to release payment against the same.\n",
    "# \"\"\"\n",
    "# print(nb.predict(cv.transform([email]))[0])"
   ]
  },
  {
   "cell_type": "code",
   "execution_count": 574,
   "metadata": {},
   "outputs": [],
   "source": [
    "# email = \"\"\"Hi Team,\n",
    "\n",
    "# To keep you posted, we are launching a paid LinkedIn campaign for a  “web launch” post.\n",
    "# Respective amount would get debited from the card, details are as below-\n",
    "\n",
    "# •\tDate: 15th to 20th September (6days)\n",
    "# •\tSpends per day: 500 INR ( total amount- 3000 INR , it may exceed a little as per the LinkedIn algorithm)\n",
    "# •\tCampaign for : India\n",
    "\n",
    "\n",
    "# Please let us know, in case of any query.\n",
    "# \"\"\"\n",
    "\n",
    "# print(nb.predict(cv.transform([email]))[0])"
   ]
  },
  {
   "cell_type": "markdown",
   "metadata": {},
   "source": [
    "# SVM "
   ]
  },
  {
   "cell_type": "code",
   "execution_count": 575,
   "metadata": {},
   "outputs": [
    {
     "name": "stdout",
     "output_type": "stream",
     "text": [
      "CONFUSION MATRIX \n",
      " [[11  4]\n",
      " [ 3 18]]\n",
      "************************************************************\n",
      "              precision    recall  f1-score   support\n",
      "\n",
      "           0       0.79      0.73      0.76        15\n",
      "           1       0.82      0.86      0.84        21\n",
      "\n",
      "    accuracy                           0.81        36\n",
      "   macro avg       0.80      0.80      0.80        36\n",
      "weighted avg       0.80      0.81      0.80        36\n",
      "\n"
     ]
    }
   ],
   "source": [
    "SVM = SVC()\n",
    "SVM.fit(X_train, y_train)\n",
    "\n",
    "# Prediction on test data\n",
    "pred = SVM.predict(X_test)\n",
    "\n",
    "# Building confusion matrix using test data and predictions\n",
    "CF_SVM = confusion_matrix(y_test,pred)\n",
    "print(\"CONFUSION MATRIX\",\"\\n\",CF_SVM)\n",
    "\n",
    "print(\"*\"*60)\n",
    "\n",
    "# Fianl results with accuracy, precision and recall\n",
    "CL_SVM = classification_report(y_test,pred)\n",
    "print(CL_SVM)\n"
   ]
  },
  {
   "cell_type": "markdown",
   "metadata": {},
   "source": [
    "# XGBoost Classifier"
   ]
  },
  {
   "cell_type": "code",
   "execution_count": 576,
   "metadata": {
    "scrolled": true
   },
   "outputs": [
    {
     "name": "stdout",
     "output_type": "stream",
     "text": [
      "CONFUSION MATRIX \n",
      " [[12  3]\n",
      " [ 4 17]]\n",
      "************************************************************\n",
      "              precision    recall  f1-score   support\n",
      "\n",
      "           0       0.75      0.80      0.77        15\n",
      "           1       0.85      0.81      0.83        21\n",
      "\n",
      "    accuracy                           0.81        36\n",
      "   macro avg       0.80      0.80      0.80        36\n",
      "weighted avg       0.81      0.81      0.81        36\n",
      "\n"
     ]
    }
   ],
   "source": [
    "import xgboost\n",
    "\n",
    "XGB = xgboost.XGBClassifier()\n",
    "XGB.fit(X_train, y_train)\n",
    "\n",
    "# Prediction on test data\n",
    "pred_XGB = XGB.predict(X_test)\n",
    "\n",
    "# Building confusion matrix using test data and predictions\n",
    "CF_XGB = confusion_matrix(y_test,pred_XGB)\n",
    "print(\"CONFUSION MATRIX\",\"\\n\",CF_XGB)\n",
    "\n",
    "print(\"*\"*60)\n",
    "\n",
    "# Fianl results with accuracy, precision and recall\n",
    "CL_XGB = classification_report(y_test,pred_XGB)\n",
    "print(CL_XGB)\n",
    "\n"
   ]
  },
  {
   "cell_type": "code",
   "execution_count": 577,
   "metadata": {},
   "outputs": [],
   "source": [
    "# Hyper parameter tunning for XGBoost\n",
    "\n",
    "params={\n",
    " \"learning_rate\"    : [0.01,0.03,0.05, 0.10, 0.15, 0.20, 0.25, 0.30 ] ,\n",
    " \"max_depth\"        : [ 1,3, 4, 5, 6, 8, 10, 12, 15],\n",
    " \"min_child_weight\" : [ 1, 3, 5, 7 ],\n",
    " \"gamma\"            : [ 0.0, 0.1, 0.2 , 0.3, 0.4,0.5,0.6,0.7,1.0 ],\n",
    " \"colsample_bytree\" : [ 0.3, 0.4, 0.5 , 0.7 ]\n",
    "    \n",
    "}"
   ]
  },
  {
   "cell_type": "code",
   "execution_count": 578,
   "metadata": {},
   "outputs": [],
   "source": [
    "from sklearn.model_selection import RandomizedSearchCV"
   ]
  },
  {
   "cell_type": "code",
   "execution_count": 579,
   "metadata": {},
   "outputs": [],
   "source": [
    "XGB_classifier = xgboost.XGBClassifier()"
   ]
  },
  {
   "cell_type": "code",
   "execution_count": 580,
   "metadata": {},
   "outputs": [],
   "source": [
    "random_search = RandomizedSearchCV(XGB_classifier,param_distributions=params,\n",
    "                                  n_iter=5,scoring=\"roc_auc\",\n",
    "                                  n_jobs=-1,\n",
    "                                  cv=5,\n",
    "                                  verbose=3)"
   ]
  },
  {
   "cell_type": "code",
   "execution_count": 581,
   "metadata": {},
   "outputs": [
    {
     "name": "stdout",
     "output_type": "stream",
     "text": [
      "Fitting 5 folds for each of 5 candidates, totalling 25 fits\n"
     ]
    },
    {
     "name": "stderr",
     "output_type": "stream",
     "text": [
      "[Parallel(n_jobs=-1)]: Using backend LokyBackend with 4 concurrent workers.\n",
      "[Parallel(n_jobs=-1)]: Done  25 out of  25 | elapsed:    2.1s finished\n"
     ]
    },
    {
     "data": {
      "text/plain": [
       "RandomizedSearchCV(cv=5,\n",
       "                   estimator=XGBClassifier(base_score=None, booster=None,\n",
       "                                           colsample_bylevel=None,\n",
       "                                           colsample_bynode=None,\n",
       "                                           colsample_bytree=None, gamma=None,\n",
       "                                           gpu_id=None, importance_type='gain',\n",
       "                                           interaction_constraints=None,\n",
       "                                           learning_rate=None,\n",
       "                                           max_delta_step=None, max_depth=None,\n",
       "                                           min_child_weight=None, missing=nan,\n",
       "                                           monotone_constraints=None,\n",
       "                                           n_estimators=100,...\n",
       "                                           scale_pos_weight=None,\n",
       "                                           subsample=None, tree_method=None,\n",
       "                                           validate_parameters=None,\n",
       "                                           verbosity=None),\n",
       "                   n_iter=5, n_jobs=-1,\n",
       "                   param_distributions={'colsample_bytree': [0.3, 0.4, 0.5,\n",
       "                                                             0.7],\n",
       "                                        'gamma': [0.0, 0.1, 0.2, 0.3, 0.4, 0.5,\n",
       "                                                  0.6, 0.7, 1.0],\n",
       "                                        'learning_rate': [0.01, 0.03, 0.05, 0.1,\n",
       "                                                          0.15, 0.2, 0.25,\n",
       "                                                          0.3],\n",
       "                                        'max_depth': [1, 3, 4, 5, 6, 8, 10, 12,\n",
       "                                                      15],\n",
       "                                        'min_child_weight': [1, 3, 5, 7]},\n",
       "                   scoring='roc_auc', verbose=3)"
      ]
     },
     "execution_count": 581,
     "metadata": {},
     "output_type": "execute_result"
    }
   ],
   "source": [
    "random_search.fit(X_train,y_train)"
   ]
  },
  {
   "cell_type": "code",
   "execution_count": 582,
   "metadata": {},
   "outputs": [
    {
     "data": {
      "text/plain": [
       "XGBClassifier(base_score=0.5, booster='gbtree', colsample_bylevel=1,\n",
       "              colsample_bynode=1, colsample_bytree=0.5, gamma=0.3, gpu_id=-1,\n",
       "              importance_type='gain', interaction_constraints='',\n",
       "              learning_rate=0.03, max_delta_step=0, max_depth=6,\n",
       "              min_child_weight=5, missing=nan, monotone_constraints='()',\n",
       "              n_estimators=100, n_jobs=0, num_parallel_tree=1, random_state=0,\n",
       "              reg_alpha=0, reg_lambda=1, scale_pos_weight=1, subsample=1,\n",
       "              tree_method='exact', validate_parameters=1, verbosity=None)"
      ]
     },
     "execution_count": 582,
     "metadata": {},
     "output_type": "execute_result"
    }
   ],
   "source": [
    "random_search.best_estimator_"
   ]
  },
  {
   "cell_type": "code",
   "execution_count": 583,
   "metadata": {},
   "outputs": [
    {
     "data": {
      "text/plain": [
       "{'min_child_weight': 5,\n",
       " 'max_depth': 6,\n",
       " 'learning_rate': 0.03,\n",
       " 'gamma': 0.3,\n",
       " 'colsample_bytree': 0.5}"
      ]
     },
     "execution_count": 583,
     "metadata": {},
     "output_type": "execute_result"
    }
   ],
   "source": [
    "random_search.best_params_"
   ]
  },
  {
   "cell_type": "code",
   "execution_count": 584,
   "metadata": {},
   "outputs": [
    {
     "name": "stdout",
     "output_type": "stream",
     "text": [
      "CONFUSION MATRIX \n",
      " [[11  4]\n",
      " [ 3 18]]\n",
      "************************************************************\n",
      "              precision    recall  f1-score   support\n",
      "\n",
      "           0       0.79      0.73      0.76        15\n",
      "           1       0.82      0.86      0.84        21\n",
      "\n",
      "    accuracy                           0.81        36\n",
      "   macro avg       0.80      0.80      0.80        36\n",
      "weighted avg       0.80      0.81      0.80        36\n",
      "\n"
     ]
    }
   ],
   "source": [
    "# Model with hyper parameter tunning\n",
    "\n",
    "XGB_HP = xgboost.XGBClassifier(base_score=0.5, booster='gbtree', colsample_bylevel=1,\n",
    "              colsample_bynode=1, colsample_bytree=0.5, gamma=0.3, gpu_id=-1,\n",
    "              importance_type='gain', interaction_constraints='',\n",
    "              learning_rate=0.3, max_delta_step=0, max_depth=10,\n",
    "              min_child_weight=1, monotone_constraints='()',\n",
    "              n_estimators=100, n_jobs=0, num_parallel_tree=1, random_state=0,\n",
    "              reg_alpha=0, reg_lambda=1, scale_pos_weight=1, subsample=1,\n",
    "              tree_method='exact', validate_parameters=1, verbosity=None)\n",
    "XGB_HP.fit(X_train, y_train)\n",
    "\n",
    "# Prediction on test data\n",
    "pred_XGB_HP = XGB_HP.predict(X_test)\n",
    "\n",
    "# Building confusion matrix using test data and predictions\n",
    "CF_XGB_HP = confusion_matrix(y_test,pred_XGB_HP)\n",
    "print(\"CONFUSION MATRIX\",\"\\n\",CF_XGB_HP)\n",
    "\n",
    "print(\"*\"*60)\n",
    "\n",
    "# Fianl results with accuracy, precision and recall\n",
    "CL_XGB_HP = classification_report(y_test,pred_XGB_HP)\n",
    "print(CL_XGB_HP)\n",
    "\n"
   ]
  },
  {
   "cell_type": "code",
   "execution_count": 585,
   "metadata": {},
   "outputs": [
    {
     "name": "stdout",
     "output_type": "stream",
     "text": [
      "[0.6875     0.78125    0.71875    0.65625    0.75       0.78125\n",
      " 0.74193548 0.83870968 0.77419355 0.74193548]\n"
     ]
    }
   ],
   "source": [
    "from sklearn.model_selection import cross_val_score\n",
    "score = cross_val_score(XGB_HP,X_train,y_train,cv=10)\n",
    "print(score)"
   ]
  },
  {
   "cell_type": "code",
   "execution_count": 586,
   "metadata": {},
   "outputs": [
    {
     "name": "stdout",
     "output_type": "stream",
     "text": [
      "0.7471774193548387\n"
     ]
    }
   ],
   "source": [
    "print(score.mean())"
   ]
  },
  {
   "cell_type": "code",
   "execution_count": null,
   "metadata": {},
   "outputs": [],
   "source": []
  },
  {
   "cell_type": "code",
   "execution_count": null,
   "metadata": {},
   "outputs": [],
   "source": []
  }
 ],
 "metadata": {
  "kernelspec": {
   "display_name": "Python 3",
   "language": "python",
   "name": "python3"
  },
  "language_info": {
   "codemirror_mode": {
    "name": "ipython",
    "version": 3
   },
   "file_extension": ".py",
   "mimetype": "text/x-python",
   "name": "python",
   "nbconvert_exporter": "python",
   "pygments_lexer": "ipython3",
   "version": "3.8.8"
  }
 },
 "nbformat": 4,
 "nbformat_minor": 4
}
