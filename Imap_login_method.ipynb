{
 "cells": [
  {
   "cell_type": "code",
   "execution_count": 1,
   "metadata": {
    "ExecuteTime": {
     "end_time": "2021-05-05T05:23:18.168873Z",
     "start_time": "2021-05-05T05:23:18.084928Z"
    }
   },
   "outputs": [],
   "source": [
    "\n",
    "import imaplib\n",
    "import email\n",
    "from email.utils import parseaddr\n",
    "from imap_tools import MailBox, AND\n",
    "\n",
    "#mpxbljwxbdzxbvzy"
   ]
  },
  {
   "cell_type": "code",
   "execution_count": 2,
   "metadata": {
    "ExecuteTime": {
     "end_time": "2021-05-05T05:23:59.494877Z",
     "start_time": "2021-05-05T05:23:56.005807Z"
    }
   },
   "outputs": [
    {
     "data": {
      "text/plain": [
       "<imap_tools.mailbox.MailBox at 0x1da78669d30>"
      ]
     },
     "execution_count": 2,
     "metadata": {},
     "output_type": "execute_result"
    }
   ],
   "source": [
    "mailbox = MailBox('outlook.office365.com')\n",
    "mailbox.login('afzal.mansury@centelon.com\\operations@centelon.com', 'mpxbljwxbdzxbvzy', initial_folder='inbox')"
   ]
  },
  {
   "cell_type": "code",
   "execution_count": null,
   "metadata": {},
   "outputs": [],
   "source": []
  },
  {
   "cell_type": "code",
   "execution_count": null,
   "metadata": {},
   "outputs": [],
   "source": []
  },
  {
   "cell_type": "code",
   "execution_count": null,
   "metadata": {},
   "outputs": [],
   "source": []
  },
  {
   "cell_type": "code",
   "execution_count": null,
   "metadata": {},
   "outputs": [],
   "source": []
  },
  {
   "cell_type": "code",
   "execution_count": 8,
   "metadata": {},
   "outputs": [],
   "source": [
    "\n",
    "username = 'afzal.mansury@centelon.com'\n",
    "password = 'mpxbljwxbdzxbvzy'\n",
    "Mymail = imaplib.IMAP4_SSL('outlook.office365.com')\n",
    "\n",
    "#imap- \n",
    "#mail.outlook.com or outlook.office365.com\n",
    "#Mymail.login(username, password)\n",
    "#Mymail.list() #OUT: list of \"folders\"\n",
    "#Mymail.select(\"INBOX\") #connect to inbox\n",
    "\n"
   ]
  },
  {
   "cell_type": "code",
   "execution_count": 9,
   "metadata": {},
   "outputs": [],
   "source": [
    "# username = 'customerside88@gmail.com'\n",
    "# password = 'Centelon@123'\n",
    "# Mymail = imaplib.IMAP4_SSL('imap.googlemail.com')"
   ]
  },
  {
   "cell_type": "code",
   "execution_count": 10,
   "metadata": {},
   "outputs": [
    {
     "name": "stdout",
     "output_type": "stream",
     "text": [
      "b'* OK The Microsoft Exchange IMAP4 service is ready. [QgBNADEAUABSADAAMQAwADEAQwBBADAAMAA2ADkALgBJAE4ARABQAFIARAAwADEALgBQAFIATwBEAC4ATwBVAFQATABPAE8ASwAuAEMATwBNAA==]'\n"
     ]
    }
   ],
   "source": [
    "print(Mymail.welcome)"
   ]
  },
  {
   "cell_type": "code",
   "execution_count": 11,
   "metadata": {},
   "outputs": [
    {
     "data": {
      "text/plain": [
       "('OK', [b'LOGIN completed.'])"
      ]
     },
     "execution_count": 11,
     "metadata": {},
     "output_type": "execute_result"
    }
   ],
   "source": [
    "#mail.outlook.com or outlook.office365.com\n",
    "Mymail.login(username, password)\n",
    "#Mymail.list() #OUT: list of \"folders\"\n",
    "#Mymail.select(\"INBOX\") #connect to inbox"
   ]
  },
  {
   "cell_type": "code",
   "execution_count": 13,
   "metadata": {},
   "outputs": [
    {
     "ename": "AttributeError",
     "evalue": "'MailMessage' object has no attribute 'body'",
     "output_type": "error",
     "traceback": [
      "\u001b[1;31m---------------------------------------------------------------------------\u001b[0m",
      "\u001b[1;31mAttributeError\u001b[0m                            Traceback (most recent call last)",
      "\u001b[1;32m<ipython-input-13-49b9041574a2>\u001b[0m in \u001b[0;36m<module>\u001b[1;34m\u001b[0m\n\u001b[0;32m      2\u001b[0m \u001b[0mmailbox\u001b[0m \u001b[1;33m=\u001b[0m \u001b[0mMailBox\u001b[0m\u001b[1;33m(\u001b[0m\u001b[1;34m'outlook.office365.com'\u001b[0m\u001b[1;33m)\u001b[0m\u001b[1;33m\u001b[0m\u001b[1;33m\u001b[0m\u001b[0m\n\u001b[0;32m      3\u001b[0m \u001b[0mmailbox\u001b[0m\u001b[1;33m.\u001b[0m\u001b[0mlogin\u001b[0m\u001b[1;33m(\u001b[0m\u001b[1;34m'afzal.mansury@centelon.com'\u001b[0m\u001b[1;33m,\u001b[0m \u001b[1;34m'mpxbljwxbdzxbvzy'\u001b[0m\u001b[1;33m,\u001b[0m \u001b[0minitial_folder\u001b[0m\u001b[1;33m=\u001b[0m\u001b[1;34m'INBOX'\u001b[0m\u001b[1;33m)\u001b[0m  \u001b[1;31m# or mailbox.folder.set instead 3d arg\u001b[0m\u001b[1;33m\u001b[0m\u001b[1;33m\u001b[0m\u001b[0m\n\u001b[1;32m----> 4\u001b[1;33m \u001b[0msubjects\u001b[0m \u001b[1;33m=\u001b[0m \u001b[1;33m[\u001b[0m\u001b[0mmsg\u001b[0m\u001b[1;33m.\u001b[0m\u001b[0mbody\u001b[0m \u001b[1;32mfor\u001b[0m \u001b[0mmsg\u001b[0m \u001b[1;32min\u001b[0m \u001b[0mmailbox\u001b[0m\u001b[1;33m.\u001b[0m\u001b[0mfetch\u001b[0m\u001b[1;33m(\u001b[0m\u001b[0mAND\u001b[0m\u001b[1;33m(\u001b[0m\u001b[0mall\u001b[0m\u001b[1;33m=\u001b[0m\u001b[1;32mTrue\u001b[0m\u001b[1;33m)\u001b[0m\u001b[1;33m)\u001b[0m\u001b[1;33m]\u001b[0m\u001b[1;33m\u001b[0m\u001b[1;33m\u001b[0m\u001b[0m\n\u001b[0m\u001b[0;32m      5\u001b[0m \u001b[0mprint\u001b[0m\u001b[1;33m(\u001b[0m\u001b[0msubjects\u001b[0m\u001b[1;33m)\u001b[0m\u001b[1;33m\u001b[0m\u001b[1;33m\u001b[0m\u001b[0m\n\u001b[0;32m      6\u001b[0m \u001b[1;31m# #mailbox.logout()\u001b[0m\u001b[1;33m\u001b[0m\u001b[1;33m\u001b[0m\u001b[1;33m\u001b[0m\u001b[0m\n",
      "\u001b[1;32m<ipython-input-13-49b9041574a2>\u001b[0m in \u001b[0;36m<listcomp>\u001b[1;34m(.0)\u001b[0m\n\u001b[0;32m      2\u001b[0m \u001b[0mmailbox\u001b[0m \u001b[1;33m=\u001b[0m \u001b[0mMailBox\u001b[0m\u001b[1;33m(\u001b[0m\u001b[1;34m'outlook.office365.com'\u001b[0m\u001b[1;33m)\u001b[0m\u001b[1;33m\u001b[0m\u001b[1;33m\u001b[0m\u001b[0m\n\u001b[0;32m      3\u001b[0m \u001b[0mmailbox\u001b[0m\u001b[1;33m.\u001b[0m\u001b[0mlogin\u001b[0m\u001b[1;33m(\u001b[0m\u001b[1;34m'afzal.mansury@centelon.com'\u001b[0m\u001b[1;33m,\u001b[0m \u001b[1;34m'mpxbljwxbdzxbvzy'\u001b[0m\u001b[1;33m,\u001b[0m \u001b[0minitial_folder\u001b[0m\u001b[1;33m=\u001b[0m\u001b[1;34m'INBOX'\u001b[0m\u001b[1;33m)\u001b[0m  \u001b[1;31m# or mailbox.folder.set instead 3d arg\u001b[0m\u001b[1;33m\u001b[0m\u001b[1;33m\u001b[0m\u001b[0m\n\u001b[1;32m----> 4\u001b[1;33m \u001b[0msubjects\u001b[0m \u001b[1;33m=\u001b[0m \u001b[1;33m[\u001b[0m\u001b[0mmsg\u001b[0m\u001b[1;33m.\u001b[0m\u001b[0mbody\u001b[0m \u001b[1;32mfor\u001b[0m \u001b[0mmsg\u001b[0m \u001b[1;32min\u001b[0m \u001b[0mmailbox\u001b[0m\u001b[1;33m.\u001b[0m\u001b[0mfetch\u001b[0m\u001b[1;33m(\u001b[0m\u001b[0mAND\u001b[0m\u001b[1;33m(\u001b[0m\u001b[0mall\u001b[0m\u001b[1;33m=\u001b[0m\u001b[1;32mTrue\u001b[0m\u001b[1;33m)\u001b[0m\u001b[1;33m)\u001b[0m\u001b[1;33m]\u001b[0m\u001b[1;33m\u001b[0m\u001b[1;33m\u001b[0m\u001b[0m\n\u001b[0m\u001b[0;32m      5\u001b[0m \u001b[0mprint\u001b[0m\u001b[1;33m(\u001b[0m\u001b[0msubjects\u001b[0m\u001b[1;33m)\u001b[0m\u001b[1;33m\u001b[0m\u001b[1;33m\u001b[0m\u001b[0m\n\u001b[0;32m      6\u001b[0m \u001b[1;31m# #mailbox.logout()\u001b[0m\u001b[1;33m\u001b[0m\u001b[1;33m\u001b[0m\u001b[1;33m\u001b[0m\u001b[0m\n",
      "\u001b[1;31mAttributeError\u001b[0m: 'MailMessage' object has no attribute 'body'"
     ]
    }
   ],
   "source": [
    "# # get list of email subjects from INBOX folder - equivalent verbose version\n",
    "mailbox = MailBox('outlook.office365.com')\n",
    "mailbox.login('afzal.mansury@centelon.com', 'mpxbljwxbdzxbvzy', initial_folder='INBOX')  # or mailbox.folder.set instead 3d arg\n",
    "subjects = [msg.body for msg in mailbox.fetch(AND(all=True))]\n",
    "print(subjects)\n",
    "# #mailbox.logout()"
   ]
  },
  {
   "cell_type": "code",
   "execution_count": null,
   "metadata": {},
   "outputs": [],
   "source": []
  },
  {
   "cell_type": "code",
   "execution_count": null,
   "metadata": {},
   "outputs": [],
   "source": [
    "def get_body(msg):\n",
    "    if msg.is_multipart():\n",
    "        return get_body(msg.get_payload(0))\n",
    "    else:\n",
    "        return msg.get_payload(None,True)\n",
    "\n",
    "def search(key, value, Mymail):\n",
    "    result, data = Mymail.search(None, key, '\"()\"'.format(value))\n",
    "    return data\n",
    "\n",
    "result, data = Mymail.fetch(customerside88@gmail.com, '(RFC822)')\n",
    "raw_email = email.message_from_bytes(data[0][1])\n",
    "\n",
    "print(search('From', 'imap.googlemail.com'))"
   ]
  },
  {
   "cell_type": "code",
   "execution_count": null,
   "metadata": {},
   "outputs": [],
   "source": [
    "import imaplib\n",
    "\n",
    "imap_host = 'Outlook.office365.com'\n",
    "mail_login = 'afzal.mansury@centelon.com'\n",
    "mail_pass = \"Mandsaur@0211\"\n",
    "\n",
    "\n",
    "M = imaplib.IMAP4_SSL(imap_host)\n",
    "#print(M.welcome)\n",
    "#M.login(mail_login, mail_pass)"
   ]
  },
  {
   "cell_type": "code",
   "execution_count": null,
   "metadata": {},
   "outputs": [],
   "source": [
    "M.login(mail_login, mail_pass)"
   ]
  },
  {
   "cell_type": "code",
   "execution_count": null,
   "metadata": {},
   "outputs": [],
   "source": [
    "import imaplib\n",
    "import getpass\n",
    "\n",
    "imap_host = 'Outlook.office365.com'\n",
    "mail_login = input(\"Username: \")\n",
    "mail_pass = getpass.getpass()\n",
    "\n",
    "M = imaplib.IMAP4_SSL(imap_host)\n",
    "print(M.welcome)\n",
    "M.login(mail_login, mail_pass)"
   ]
  },
  {
   "cell_type": "code",
   "execution_count": null,
   "metadata": {},
   "outputs": [],
   "source": [
    "pip install imap-tools"
   ]
  },
  {
   "cell_type": "code",
   "execution_count": null,
   "metadata": {},
   "outputs": [],
   "source": [
    "from imap_tools import MailBox, AND\n",
    "\n"
   ]
  },
  {
   "cell_type": "code",
   "execution_count": null,
   "metadata": {},
   "outputs": [],
   "source": [
    "# get list of email subjects from INBOX folder\n",
    "with MailBox('imap.gmail.com').login('customerside88@gmail.com', 'Centelon@123') as mailbox:\n",
    "    subjects = [msg.subject for msg in mailbox.fetch()]\n",
    "\n"
   ]
  },
  {
   "cell_type": "code",
   "execution_count": null,
   "metadata": {},
   "outputs": [],
   "source": [
    "# get list of email subjects from INBOX folder - equivalent verbose version\n",
    "mailbox = MailBox('imap.mail.com')\n",
    "mailbox.login('test@mail.com', 'pwd', initial_folder='INBOX')  # or mailbox.folder.set instead 3d arg\n",
    "subjects = [msg.subject for msg in mailbox.fetch(AND(all=True))]\n",
    "mailbox.logout()"
   ]
  },
  {
   "cell_type": "code",
   "execution_count": null,
   "metadata": {},
   "outputs": [],
   "source": [
    "#pip install imapclient\n",
    "!pip install mail-parser"
   ]
  },
  {
   "cell_type": "code",
   "execution_count": null,
   "metadata": {},
   "outputs": [],
   "source": [
    "from imapclient import IMAPClient\n",
    "import mailparser\n"
   ]
  },
  {
   "cell_type": "code",
   "execution_count": null,
   "metadata": {},
   "outputs": [],
   "source": [
    "server = \"outlook.office365.com\"\n",
    "username = \"afzal.mansury@centelon.com\"\n",
    "password = \"Mandsaur@0211\""
   ]
  },
  {
   "cell_type": "code",
   "execution_count": null,
   "metadata": {},
   "outputs": [],
   "source": [
    "\n",
    "with IMAPClient(self.host) as server:\n",
    "    server.login(self.username, self.password)\n",
    "    server.select_folder('INBOX')\n",
    "    messages = server.search(['FROM',\"afzal.mansury@centelon.com\" ])  # in your case: ['FROM', 'email@outlook.example']\n",
    "\n"
   ]
  },
  {
   "cell_type": "code",
   "execution_count": null,
   "metadata": {},
   "outputs": [],
   "source": [
    "# for each unseen email in the inbox\n",
    "for uid, message_data in server.fetch(messages, 'RFC822').items():\n",
    "    email_message = mailparser.parse_from_string(message_data[b'RFC822'])"
   ]
  },
  {
   "cell_type": "code",
   "execution_count": null,
   "metadata": {},
   "outputs": [],
   "source": [
    "from imapclient import IMAPClient\n",
    "import mailparser\n",
    "\n",
    "with IMAPClient(self.host) as server:\n",
    "    server.login(self.username, self.password)\n",
    "    server.select_folder('INBOX')\n",
    "    messages = server.search(['UNSEEN', ])  # in your case: ['FROM', 'email@outlook.example']\n",
    "\n",
    "    # for each unseen email in the inbox\n",
    "    for uid, message_data in server.fetch(messages, 'RFC822').items():\n",
    "        email_message = mailparser.parse_from_string(message_data[b'RFC822'])"
   ]
  },
  {
   "cell_type": "code",
   "execution_count": null,
   "metadata": {},
   "outputs": [],
   "source": [
    "!pip install outlook"
   ]
  },
  {
   "cell_type": "code",
   "execution_count": null,
   "metadata": {},
   "outputs": [],
   "source": [
    "#To get latest Unread Message in inbox:\n",
    "import outlook\n",
    "#mail = outlook.Outlook()\n",
    "#mail.login('emailaccount@live.com','yourpassword')\n",
    "#mail.inbox()\n",
    "#print mail.unread()\n"
   ]
  },
  {
   "cell_type": "code",
   "execution_count": null,
   "metadata": {},
   "outputs": [],
   "source": [
    "To get latest Unread Message in Junk:\n",
    "import outlook\n",
    "mail = outlook.Outlook()\n",
    "mail.login('emailaccount@live.com','yourpassword')\n",
    "mail.junk()\n",
    "print mail.unread()"
   ]
  },
  {
   "cell_type": "code",
   "execution_count": null,
   "metadata": {},
   "outputs": [],
   "source": []
  },
  {
   "cell_type": "code",
   "execution_count": null,
   "metadata": {},
   "outputs": [],
   "source": []
  }
 ],
 "metadata": {
  "kernelspec": {
   "display_name": "Python 3",
   "language": "python",
   "name": "python3"
  },
  "language_info": {
   "codemirror_mode": {
    "name": "ipython",
    "version": 3
   },
   "file_extension": ".py",
   "mimetype": "text/x-python",
   "name": "python",
   "nbconvert_exporter": "python",
   "pygments_lexer": "ipython3",
   "version": "3.8.8"
  },
  "varInspector": {
   "cols": {
    "lenName": 16,
    "lenType": 16,
    "lenVar": 40
   },
   "kernels_config": {
    "python": {
     "delete_cmd_postfix": "",
     "delete_cmd_prefix": "del ",
     "library": "var_list.py",
     "varRefreshCmd": "print(var_dic_list())"
    },
    "r": {
     "delete_cmd_postfix": ") ",
     "delete_cmd_prefix": "rm(",
     "library": "var_list.r",
     "varRefreshCmd": "cat(var_dic_list()) "
    }
   },
   "types_to_exclude": [
    "module",
    "function",
    "builtin_function_or_method",
    "instance",
    "_Feature"
   ],
   "window_display": false
  }
 },
 "nbformat": 4,
 "nbformat_minor": 4
}
